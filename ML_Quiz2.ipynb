{
  "cells": [
    {
      "cell_type": "markdown",
      "metadata": {
        "id": "view-in-github",
        "colab_type": "text"
      },
      "source": [
        "<a href=\"https://colab.research.google.com/github/dhikaainul/Machine_Learning_Quiz_2/blob/main/ML_Quiz2.ipynb\" target=\"_parent\"><img src=\"https://colab.research.google.com/assets/colab-badge.svg\" alt=\"Open In Colab\"/></a>"
      ]
    },
    {
      "cell_type": "markdown",
      "source": [
        "**NAMA : DHIKA AINUL LUTHFI**\n",
        "\n",
        "**NIM : 2241727007**\n",
        "\n",
        "**KELAS : TI-4J**"
      ],
      "metadata": {
        "id": "tHKzv1FP-ya5"
      }
    },
    {
      "cell_type": "markdown",
      "source": [
        "### Ketentuan:\n",
        "\n",
        "1.   Pengerjaan secara individu alias setiap mahasiswa!\n",
        "2.   terdapat data dengan nilai #N/A, pertimbangkan cara terbaik untuk mengatasi nilai tersebut.\n",
        "3.   Tidak boleh ada duplikasi pekerjaan antar mahasiswa (evaluasi pemahaman pengerjaan quiz 2 dilaksanakan pada Minggu ke-14)\n",
        "\n",
        "\n",
        "### Soal:\n",
        "\n",
        "\n"
      ],
      "metadata": {
        "id": "bLW6TzCJ_2Pw"
      }
    },
    {
      "cell_type": "markdown",
      "source": [
        "####Persiapan"
      ],
      "metadata": {
        "id": "CZiwBROwAUw8"
      }
    },
    {
      "cell_type": "code",
      "execution_count": 1,
      "metadata": {
        "id": "7FR3lmltnYBG"
      },
      "outputs": [],
      "source": [
        "# import package\n",
        "import numpy as np\n",
        "import pandas as pd\n",
        "import seaborn as sns\n",
        "import matplotlib.pyplot as plt\n",
        "from sklearn.tree import DecisionTreeClassifier # import DT\n",
        "from sklearn.ensemble import RandomForestClassifier # import RandomForest\n",
        "from sklearn.model_selection import train_test_split\n",
        "from sklearn.metrics import accuracy_score, classification_report"
      ]
    },
    {
      "cell_type": "markdown",
      "source": [],
      "metadata": {
        "id": "b84hqy_rdIMv"
      }
    },
    {
      "cell_type": "code",
      "execution_count": 3,
      "metadata": {
        "colab": {
          "base_uri": "https://localhost:8080/",
          "height": 206
        },
        "id": "zp0ahRNPnwhI",
        "outputId": "31975bff-00ab-4ece-c42b-6b243131b1d3"
      },
      "outputs": [
        {
          "output_type": "execute_result",
          "data": {
            "text/plain": [
              "  luaran_hki keterlibatan_vltr  jml_vltr_terlibat  tahun    skema  \\\n",
              "0  TIDAK ADA             TIDAK                  0   2019  REGULER   \n",
              "1  TIDAK ADA             TIDAK                  0   2019  REGULER   \n",
              "2  TIDAK ADA             TIDAK                  0   2019  REGULER   \n",
              "3  TIDAK ADA             TIDAK                  0   2019  REGULER   \n",
              "4  TIDAK ADA             TIDAK                  0   2019  REGULER   \n",
              "\n",
              "  jenis_luaran_hki potensi_hki luaran_lain jenis_luaran_lain  \\\n",
              "0        TIDAK ADA       TIDAK   TIDAK ADA         TIDAK ADA   \n",
              "1        TIDAK ADA       TIDAK   TIDAK ADA         TIDAK ADA   \n",
              "2        TIDAK ADA       TIDAK   TIDAK ADA         TIDAK ADA   \n",
              "3        TIDAK ADA       TIDAK   TIDAK ADA         TIDAK ADA   \n",
              "4        TIDAK ADA       TIDAK   TIDAK ADA         TIDAK ADA   \n",
              "\n",
              "  status_luaran_lain  \n",
              "0          TIDAK ADA  \n",
              "1          TIDAK ADA  \n",
              "2          TIDAK ADA  \n",
              "3          TIDAK ADA  \n",
              "4          TIDAK ADA  "
            ],
            "text/html": [
              "\n",
              "  <div id=\"df-1daceab8-2628-4501-be29-5e849f684c63\">\n",
              "    <div class=\"colab-df-container\">\n",
              "      <div>\n",
              "<style scoped>\n",
              "    .dataframe tbody tr th:only-of-type {\n",
              "        vertical-align: middle;\n",
              "    }\n",
              "\n",
              "    .dataframe tbody tr th {\n",
              "        vertical-align: top;\n",
              "    }\n",
              "\n",
              "    .dataframe thead th {\n",
              "        text-align: right;\n",
              "    }\n",
              "</style>\n",
              "<table border=\"1\" class=\"dataframe\">\n",
              "  <thead>\n",
              "    <tr style=\"text-align: right;\">\n",
              "      <th></th>\n",
              "      <th>luaran_hki</th>\n",
              "      <th>keterlibatan_vltr</th>\n",
              "      <th>jml_vltr_terlibat</th>\n",
              "      <th>tahun</th>\n",
              "      <th>skema</th>\n",
              "      <th>jenis_luaran_hki</th>\n",
              "      <th>potensi_hki</th>\n",
              "      <th>luaran_lain</th>\n",
              "      <th>jenis_luaran_lain</th>\n",
              "      <th>status_luaran_lain</th>\n",
              "    </tr>\n",
              "  </thead>\n",
              "  <tbody>\n",
              "    <tr>\n",
              "      <th>0</th>\n",
              "      <td>TIDAK ADA</td>\n",
              "      <td>TIDAK</td>\n",
              "      <td>0</td>\n",
              "      <td>2019</td>\n",
              "      <td>REGULER</td>\n",
              "      <td>TIDAK ADA</td>\n",
              "      <td>TIDAK</td>\n",
              "      <td>TIDAK ADA</td>\n",
              "      <td>TIDAK ADA</td>\n",
              "      <td>TIDAK ADA</td>\n",
              "    </tr>\n",
              "    <tr>\n",
              "      <th>1</th>\n",
              "      <td>TIDAK ADA</td>\n",
              "      <td>TIDAK</td>\n",
              "      <td>0</td>\n",
              "      <td>2019</td>\n",
              "      <td>REGULER</td>\n",
              "      <td>TIDAK ADA</td>\n",
              "      <td>TIDAK</td>\n",
              "      <td>TIDAK ADA</td>\n",
              "      <td>TIDAK ADA</td>\n",
              "      <td>TIDAK ADA</td>\n",
              "    </tr>\n",
              "    <tr>\n",
              "      <th>2</th>\n",
              "      <td>TIDAK ADA</td>\n",
              "      <td>TIDAK</td>\n",
              "      <td>0</td>\n",
              "      <td>2019</td>\n",
              "      <td>REGULER</td>\n",
              "      <td>TIDAK ADA</td>\n",
              "      <td>TIDAK</td>\n",
              "      <td>TIDAK ADA</td>\n",
              "      <td>TIDAK ADA</td>\n",
              "      <td>TIDAK ADA</td>\n",
              "    </tr>\n",
              "    <tr>\n",
              "      <th>3</th>\n",
              "      <td>TIDAK ADA</td>\n",
              "      <td>TIDAK</td>\n",
              "      <td>0</td>\n",
              "      <td>2019</td>\n",
              "      <td>REGULER</td>\n",
              "      <td>TIDAK ADA</td>\n",
              "      <td>TIDAK</td>\n",
              "      <td>TIDAK ADA</td>\n",
              "      <td>TIDAK ADA</td>\n",
              "      <td>TIDAK ADA</td>\n",
              "    </tr>\n",
              "    <tr>\n",
              "      <th>4</th>\n",
              "      <td>TIDAK ADA</td>\n",
              "      <td>TIDAK</td>\n",
              "      <td>0</td>\n",
              "      <td>2019</td>\n",
              "      <td>REGULER</td>\n",
              "      <td>TIDAK ADA</td>\n",
              "      <td>TIDAK</td>\n",
              "      <td>TIDAK ADA</td>\n",
              "      <td>TIDAK ADA</td>\n",
              "      <td>TIDAK ADA</td>\n",
              "    </tr>\n",
              "  </tbody>\n",
              "</table>\n",
              "</div>\n",
              "      <button class=\"colab-df-convert\" onclick=\"convertToInteractive('df-1daceab8-2628-4501-be29-5e849f684c63')\"\n",
              "              title=\"Convert this dataframe to an interactive table.\"\n",
              "              style=\"display:none;\">\n",
              "        \n",
              "  <svg xmlns=\"http://www.w3.org/2000/svg\" height=\"24px\"viewBox=\"0 0 24 24\"\n",
              "       width=\"24px\">\n",
              "    <path d=\"M0 0h24v24H0V0z\" fill=\"none\"/>\n",
              "    <path d=\"M18.56 5.44l.94 2.06.94-2.06 2.06-.94-2.06-.94-.94-2.06-.94 2.06-2.06.94zm-11 1L8.5 8.5l.94-2.06 2.06-.94-2.06-.94L8.5 2.5l-.94 2.06-2.06.94zm10 10l.94 2.06.94-2.06 2.06-.94-2.06-.94-.94-2.06-.94 2.06-2.06.94z\"/><path d=\"M17.41 7.96l-1.37-1.37c-.4-.4-.92-.59-1.43-.59-.52 0-1.04.2-1.43.59L10.3 9.45l-7.72 7.72c-.78.78-.78 2.05 0 2.83L4 21.41c.39.39.9.59 1.41.59.51 0 1.02-.2 1.41-.59l7.78-7.78 2.81-2.81c.8-.78.8-2.07 0-2.86zM5.41 20L4 18.59l7.72-7.72 1.47 1.35L5.41 20z\"/>\n",
              "  </svg>\n",
              "      </button>\n",
              "      \n",
              "  <style>\n",
              "    .colab-df-container {\n",
              "      display:flex;\n",
              "      flex-wrap:wrap;\n",
              "      gap: 12px;\n",
              "    }\n",
              "\n",
              "    .colab-df-convert {\n",
              "      background-color: #E8F0FE;\n",
              "      border: none;\n",
              "      border-radius: 50%;\n",
              "      cursor: pointer;\n",
              "      display: none;\n",
              "      fill: #1967D2;\n",
              "      height: 32px;\n",
              "      padding: 0 0 0 0;\n",
              "      width: 32px;\n",
              "    }\n",
              "\n",
              "    .colab-df-convert:hover {\n",
              "      background-color: #E2EBFA;\n",
              "      box-shadow: 0px 1px 2px rgba(60, 64, 67, 0.3), 0px 1px 3px 1px rgba(60, 64, 67, 0.15);\n",
              "      fill: #174EA6;\n",
              "    }\n",
              "\n",
              "    [theme=dark] .colab-df-convert {\n",
              "      background-color: #3B4455;\n",
              "      fill: #D2E3FC;\n",
              "    }\n",
              "\n",
              "    [theme=dark] .colab-df-convert:hover {\n",
              "      background-color: #434B5C;\n",
              "      box-shadow: 0px 1px 3px 1px rgba(0, 0, 0, 0.15);\n",
              "      filter: drop-shadow(0px 1px 2px rgba(0, 0, 0, 0.3));\n",
              "      fill: #FFFFFF;\n",
              "    }\n",
              "  </style>\n",
              "\n",
              "      <script>\n",
              "        const buttonEl =\n",
              "          document.querySelector('#df-1daceab8-2628-4501-be29-5e849f684c63 button.colab-df-convert');\n",
              "        buttonEl.style.display =\n",
              "          google.colab.kernel.accessAllowed ? 'block' : 'none';\n",
              "\n",
              "        async function convertToInteractive(key) {\n",
              "          const element = document.querySelector('#df-1daceab8-2628-4501-be29-5e849f684c63');\n",
              "          const dataTable =\n",
              "            await google.colab.kernel.invokeFunction('convertToInteractive',\n",
              "                                                     [key], {});\n",
              "          if (!dataTable) return;\n",
              "\n",
              "          const docLinkHtml = 'Like what you see? Visit the ' +\n",
              "            '<a target=\"_blank\" href=https://colab.research.google.com/notebooks/data_table.ipynb>data table notebook</a>'\n",
              "            + ' to learn more about interactive tables.';\n",
              "          element.innerHTML = '';\n",
              "          dataTable['output_type'] = 'display_data';\n",
              "          await google.colab.output.renderOutput(dataTable, element);\n",
              "          const docLink = document.createElement('div');\n",
              "          docLink.innerHTML = docLinkHtml;\n",
              "          element.appendChild(docLink);\n",
              "        }\n",
              "      </script>\n",
              "    </div>\n",
              "  </div>\n",
              "  "
            ]
          },
          "metadata": {},
          "execution_count": 3
        }
      ],
      "source": [
        "# baca data\n",
        "df = pd.read_csv('dataset_quiz.csv')\n",
        "df.head()"
      ]
    },
    {
      "cell_type": "code",
      "source": [
        "df[df['skema'] == 'KEMITRAAN']['skema'].count()"
      ],
      "metadata": {
        "colab": {
          "base_uri": "https://localhost:8080/"
        },
        "id": "Fz1jqYnNfGy0",
        "outputId": "cf0486b9-32db-41e4-f69b-043ec09cbf4e"
      },
      "execution_count": 4,
      "outputs": [
        {
          "output_type": "execute_result",
          "data": {
            "text/plain": [
              "3"
            ]
          },
          "metadata": {},
          "execution_count": 4
        }
      ]
    },
    {
      "cell_type": "markdown",
      "source": [
        "1.   Buat 5 jenis visualisasi yang dapat dihasilkan dari data yang diberikan! (**5 poin**)"
      ],
      "metadata": {
        "id": "MGQIDrvSulqx"
      }
    },
    {
      "cell_type": "code",
      "source": [
        "import matplotlib.pyplot as plt\n",
        "%matplotlib inline\n",
        "\n",
        "jenis_luaran_lain= ['TIDAK ADA', 'Publikasi Media Massa', 'Artikel Ilmiah', 'Modul Ajar']\n",
        "jum_jenis_luaran_lain = df[df['jenis_luaran_lain'] == 'TIDAK ADA']['jenis_luaran_lain'].count(),df[df['jenis_luaran_lain'] == 'Publikasi Media Massa']['jenis_luaran_lain'].count(),df[df['jenis_luaran_lain'] == 'Artikel Ilmiah']['jenis_luaran_lain'].count(),df[df['jenis_luaran_lain'] == 'Modul Ajar']['jenis_luaran_lain'].count()\n",
        "\n",
        "plt.figure(figsize=(12,7))\n",
        "plt.bar(jenis_luaran_lain, jum_jenis_luaran_lain, color='lightcoral')\n",
        "\n",
        "plt.title('Jumlah Keluaran Lain', size=16)\n",
        "plt.ylabel('Jumlah', size=14)\n",
        "plt.xticks(size=12)\n",
        "plt.yticks(size=12)\n",
        "\n",
        "plt.show()"
      ],
      "metadata": {
        "colab": {
          "base_uri": "https://localhost:8080/",
          "height": 449
        },
        "id": "MzkT1s2nnzk8",
        "outputId": "1851807f-28f5-491a-aaac-d80e42091786"
      },
      "execution_count": 5,
      "outputs": [
        {
          "output_type": "display_data",
          "data": {
            "text/plain": [
              "<Figure size 864x504 with 1 Axes>"
            ],
            "image/png": "[encoded data removed]"
          },
          "metadata": {
            "needs_background": "light"
          }
        }
      ]
    },
    {
      "cell_type": "code",
      "source": [
        "import matplotlib.pyplot as plt\n",
        "%matplotlib inline\n",
        "\n",
        "skema = ['TIDAK ADA', 'Hak Cipta']\n",
        "jum_skema = df[df['jenis_luaran_hki'] == 'TIDAK ADA']['jenis_luaran_hki'].count(),df[df['jenis_luaran_hki'] == 'Hak Cipta']['jenis_luaran_hki'].count()\n",
        "\n",
        "plt.figure(figsize=(12,7))\n",
        "plt.bar(skema, jum_skema, color='lightcoral')\n",
        "\n",
        "plt.title('Jumlah Keluaran HKI', size=16)\n",
        "plt.ylabel('Jumlah TIDAK ADA dan Hak Cipta', size=14)\n",
        "plt.xticks(size=12)\n",
        "plt.yticks(size=12)\n",
        "\n",
        "plt.show()"
      ],
      "metadata": {
        "colab": {
          "base_uri": "https://localhost:8080/",
          "height": 449
        },
        "id": "oA5SxF1Xm9m4",
        "outputId": "958f202c-8ff6-4409-990f-6aba34e35076"
      },
      "execution_count": 6,
      "outputs": [
        {
          "output_type": "display_data",
          "data": {
            "text/plain": [
              "<Figure size 864x504 with 1 Axes>"
            ],
            "image/png": "[encoded data removed]"
          },
          "metadata": {
            "needs_background": "light"
          }
        }
      ]
    },
    {
      "cell_type": "code",
      "source": [
        "import matplotlib.pyplot as plt\n",
        "%matplotlib inline\n",
        "\n",
        "ktrlbtn = ['REGULER', 'KEMITRAAN']\n",
        "jum_ktrlbtn = df[df['skema'] == 'REGULER']['skema'].count(),df[df['skema'] == 'KEMITRAAN']['skema'].count()\n",
        "\n",
        "plt.figure(figsize=(12,7))\n",
        "plt.bar(ktrlbtn, jum_ktrlbtn, color='lightcoral')\n",
        "\n",
        "plt.title('Jumlah Skema', size=16)\n",
        "plt.ylabel('Jumlah REGULER dan KEMITRAAN', size=14)\n",
        "plt.xticks(size=12)\n",
        "plt.yticks(size=12)\n",
        "\n",
        "plt.show()"
      ],
      "metadata": {
        "colab": {
          "base_uri": "https://localhost:8080/",
          "height": 449
        },
        "id": "MKidOJa7kwnO",
        "outputId": "1d0da874-8b97-4ef7-c3a0-0f2e00e2e6e3"
      },
      "execution_count": 7,
      "outputs": [
        {
          "output_type": "display_data",
          "data": {
            "text/plain": [
              "<Figure size 864x504 with 1 Axes>"
            ],
            "image/png": "[encoded data removed]"
          },
          "metadata": {
            "needs_background": "light"
          }
        }
      ]
    },
    {
      "cell_type": "code",
      "source": [
        "import matplotlib.pyplot as plt\n",
        "%matplotlib inline\n",
        "\n",
        "ktrlbtn = ['IYA', 'TIDAK']\n",
        "jum_ktrlbtn = df[df['keterlibatan_vltr'] == 'YA']['keterlibatan_vltr'].count(),df[df['keterlibatan_vltr'] == 'TIDAK']['keterlibatan_vltr'].count()\n",
        "\n",
        "plt.figure(figsize=(12,7))\n",
        "plt.bar(ktrlbtn, jum_ktrlbtn, color='lightcoral')\n",
        "\n",
        "plt.title('Jumlah Keterlibatan Volunter', size=16)\n",
        "plt.ylabel('Jumlah IYA dan TIDAK', size=14)\n",
        "plt.xticks(size=12)\n",
        "plt.yticks(size=12)\n",
        "\n",
        "plt.show()"
      ],
      "metadata": {
        "colab": {
          "base_uri": "https://localhost:8080/",
          "height": 449
        },
        "id": "Ezvk81AfhD91",
        "outputId": "1f9387fe-2b4b-48a0-82ea-6662ba7b051a"
      },
      "execution_count": 8,
      "outputs": [
        {
          "output_type": "display_data",
          "data": {
            "text/plain": [
              "<Figure size 864x504 with 1 Axes>"
            ],
            "image/png": "[encoded data removed]"
          },
          "metadata": {
            "needs_background": "light"
          }
        }
      ]
    },
    {
      "cell_type": "code",
      "source": [
        "import matplotlib.pyplot as plt\n",
        "%matplotlib inline\n",
        "\n",
        "plt.figure(figsize=(12,7))\n",
        "plt.bar(df['tahun'], df['jml_vltr_terlibat'], color='lightcoral')\n",
        "\n",
        "plt.title('Jumlah Volunter Yang Terlibat Terhadap Tahun', size=16)\n",
        "plt.ylabel('Jumlah Mahasiswa', size=14)\n",
        "plt.xticks(size=12)\n",
        "plt.yticks(size=12)\n",
        "\n",
        "plt.show()"
      ],
      "metadata": {
        "colab": {
          "base_uri": "https://localhost:8080/",
          "height": 449
        },
        "id": "f_RJptDqVL-r",
        "outputId": "3b9005c0-46ca-4094-8c5e-b697162a11b3"
      },
      "execution_count": 9,
      "outputs": [
        {
          "output_type": "display_data",
          "data": {
            "text/plain": [
              "<Figure size 864x504 with 1 Axes>"
            ],
            "image/png": "[encoded data removed]"
          },
          "metadata": {
            "needs_background": "light"
          }
        }
      ]
    },
    {
      "cell_type": "code",
      "source": [
        "from sklearn.preprocessing import LabelEncoder\n",
        "\n",
        "labelencoder=LabelEncoder()\n",
        "\n",
        "for column in df.columns:\n",
        "    df[column] = labelencoder.fit_transform(df[column])\n",
        "\n",
        "df.head()"
      ],
      "metadata": {
        "colab": {
          "base_uri": "https://localhost:8080/",
          "height": 206
        },
        "id": "JW4NidERfpNQ",
        "outputId": "af552ff1-7bb3-4ee2-a67e-53a849728c70"
      },
      "execution_count": 10,
      "outputs": [
        {
          "output_type": "execute_result",
          "data": {
            "text/plain": [
              "   luaran_hki  keterlibatan_vltr  jml_vltr_terlibat  tahun  skema  \\\n",
              "0           1                  0                  0      0      1   \n",
              "1           1                  0                  0      0      1   \n",
              "2           1                  0                  0      0      1   \n",
              "3           1                  0                  0      0      1   \n",
              "4           1                  0                  0      0      1   \n",
              "\n",
              "   jenis_luaran_hki  potensi_hki  luaran_lain  jenis_luaran_lain  \\\n",
              "0                 1            1            0                  3   \n",
              "1                 1            1            0                  3   \n",
              "2                 1            1            0                  3   \n",
              "3                 1            1            0                  3   \n",
              "4                 1            1            0                  3   \n",
              "\n",
              "   status_luaran_lain  \n",
              "0                   1  \n",
              "1                   1  \n",
              "2                   1  \n",
              "3                   1  \n",
              "4                   1  "
            ],
            "text/html": [
              "\n",
              "  <div id=\"df-bd20626f-6d94-4190-8679-2e85a41988d8\">\n",
              "    <div class=\"colab-df-container\">\n",
              "      <div>\n",
              "<style scoped>\n",
              "    .dataframe tbody tr th:only-of-type {\n",
              "        vertical-align: middle;\n",
              "    }\n",
              "\n",
              "    .dataframe tbody tr th {\n",
              "        vertical-align: top;\n",
              "    }\n",
              "\n",
              "    .dataframe thead th {\n",
              "        text-align: right;\n",
              "    }\n",
              "</style>\n",
              "<table border=\"1\" class=\"dataframe\">\n",
              "  <thead>\n",
              "    <tr style=\"text-align: right;\">\n",
              "      <th></th>\n",
              "      <th>luaran_hki</th>\n",
              "      <th>keterlibatan_vltr</th>\n",
              "      <th>jml_vltr_terlibat</th>\n",
              "      <th>tahun</th>\n",
              "      <th>skema</th>\n",
              "      <th>jenis_luaran_hki</th>\n",
              "      <th>potensi_hki</th>\n",
              "      <th>luaran_lain</th>\n",
              "      <th>jenis_luaran_lain</th>\n",
              "      <th>status_luaran_lain</th>\n",
              "    </tr>\n",
              "  </thead>\n",
              "  <tbody>\n",
              "    <tr>\n",
              "      <th>0</th>\n",
              "      <td>1</td>\n",
              "      <td>0</td>\n",
              "      <td>0</td>\n",
              "      <td>0</td>\n",
              "      <td>1</td>\n",
              "      <td>1</td>\n",
              "      <td>1</td>\n",
              "      <td>0</td>\n",
              "      <td>3</td>\n",
              "      <td>1</td>\n",
              "    </tr>\n",
              "    <tr>\n",
              "      <th>1</th>\n",
              "      <td>1</td>\n",
              "      <td>0</td>\n",
              "      <td>0</td>\n",
              "      <td>0</td>\n",
              "      <td>1</td>\n",
              "      <td>1</td>\n",
              "      <td>1</td>\n",
              "      <td>0</td>\n",
              "      <td>3</td>\n",
              "      <td>1</td>\n",
              "    </tr>\n",
              "    <tr>\n",
              "      <th>2</th>\n",
              "      <td>1</td>\n",
              "      <td>0</td>\n",
              "      <td>0</td>\n",
              "      <td>0</td>\n",
              "      <td>1</td>\n",
              "      <td>1</td>\n",
              "      <td>1</td>\n",
              "      <td>0</td>\n",
              "      <td>3</td>\n",
              "      <td>1</td>\n",
              "    </tr>\n",
              "    <tr>\n",
              "      <th>3</th>\n",
              "      <td>1</td>\n",
              "      <td>0</td>\n",
              "      <td>0</td>\n",
              "      <td>0</td>\n",
              "      <td>1</td>\n",
              "      <td>1</td>\n",
              "      <td>1</td>\n",
              "      <td>0</td>\n",
              "      <td>3</td>\n",
              "      <td>1</td>\n",
              "    </tr>\n",
              "    <tr>\n",
              "      <th>4</th>\n",
              "      <td>1</td>\n",
              "      <td>0</td>\n",
              "      <td>0</td>\n",
              "      <td>0</td>\n",
              "      <td>1</td>\n",
              "      <td>1</td>\n",
              "      <td>1</td>\n",
              "      <td>0</td>\n",
              "      <td>3</td>\n",
              "      <td>1</td>\n",
              "    </tr>\n",
              "  </tbody>\n",
              "</table>\n",
              "</div>\n",
              "      <button class=\"colab-df-convert\" onclick=\"convertToInteractive('df-bd20626f-6d94-4190-8679-2e85a41988d8')\"\n",
              "              title=\"Convert this dataframe to an interactive table.\"\n",
              "              style=\"display:none;\">\n",
              "        \n",
              "  <svg xmlns=\"http://www.w3.org/2000/svg\" height=\"24px\"viewBox=\"0 0 24 24\"\n",
              "       width=\"24px\">\n",
              "    <path d=\"M0 0h24v24H0V0z\" fill=\"none\"/>\n",
              "    <path d=\"M18.56 5.44l.94 2.06.94-2.06 2.06-.94-2.06-.94-.94-2.06-.94 2.06-2.06.94zm-11 1L8.5 8.5l.94-2.06 2.06-.94-2.06-.94L8.5 2.5l-.94 2.06-2.06.94zm10 10l.94 2.06.94-2.06 2.06-.94-2.06-.94-.94-2.06-.94 2.06-2.06.94z\"/><path d=\"M17.41 7.96l-1.37-1.37c-.4-.4-.92-.59-1.43-.59-.52 0-1.04.2-1.43.59L10.3 9.45l-7.72 7.72c-.78.78-.78 2.05 0 2.83L4 21.41c.39.39.9.59 1.41.59.51 0 1.02-.2 1.41-.59l7.78-7.78 2.81-2.81c.8-.78.8-2.07 0-2.86zM5.41 20L4 18.59l7.72-7.72 1.47 1.35L5.41 20z\"/>\n",
              "  </svg>\n",
              "      </button>\n",
              "      \n",
              "  <style>\n",
              "    .colab-df-container {\n",
              "      display:flex;\n",
              "      flex-wrap:wrap;\n",
              "      gap: 12px;\n",
              "    }\n",
              "\n",
              "    .colab-df-convert {\n",
              "      background-color: #E8F0FE;\n",
              "      border: none;\n",
              "      border-radius: 50%;\n",
              "      cursor: pointer;\n",
              "      display: none;\n",
              "      fill: #1967D2;\n",
              "      height: 32px;\n",
              "      padding: 0 0 0 0;\n",
              "      width: 32px;\n",
              "    }\n",
              "\n",
              "    .colab-df-convert:hover {\n",
              "      background-color: #E2EBFA;\n",
              "      box-shadow: 0px 1px 2px rgba(60, 64, 67, 0.3), 0px 1px 3px 1px rgba(60, 64, 67, 0.15);\n",
              "      fill: #174EA6;\n",
              "    }\n",
              "\n",
              "    [theme=dark] .colab-df-convert {\n",
              "      background-color: #3B4455;\n",
              "      fill: #D2E3FC;\n",
              "    }\n",
              "\n",
              "    [theme=dark] .colab-df-convert:hover {\n",
              "      background-color: #434B5C;\n",
              "      box-shadow: 0px 1px 3px 1px rgba(0, 0, 0, 0.15);\n",
              "      filter: drop-shadow(0px 1px 2px rgba(0, 0, 0, 0.3));\n",
              "      fill: #FFFFFF;\n",
              "    }\n",
              "  </style>\n",
              "\n",
              "      <script>\n",
              "        const buttonEl =\n",
              "          document.querySelector('#df-bd20626f-6d94-4190-8679-2e85a41988d8 button.colab-df-convert');\n",
              "        buttonEl.style.display =\n",
              "          google.colab.kernel.accessAllowed ? 'block' : 'none';\n",
              "\n",
              "        async function convertToInteractive(key) {\n",
              "          const element = document.querySelector('#df-bd20626f-6d94-4190-8679-2e85a41988d8');\n",
              "          const dataTable =\n",
              "            await google.colab.kernel.invokeFunction('convertToInteractive',\n",
              "                                                     [key], {});\n",
              "          if (!dataTable) return;\n",
              "\n",
              "          const docLinkHtml = 'Like what you see? Visit the ' +\n",
              "            '<a target=\"_blank\" href=https://colab.research.google.com/notebooks/data_table.ipynb>data table notebook</a>'\n",
              "            + ' to learn more about interactive tables.';\n",
              "          element.innerHTML = '';\n",
              "          dataTable['output_type'] = 'display_data';\n",
              "          await google.colab.output.renderOutput(dataTable, element);\n",
              "          const docLink = document.createElement('div');\n",
              "          docLink.innerHTML = docLinkHtml;\n",
              "          element.appendChild(docLink);\n",
              "        }\n",
              "      </script>\n",
              "    </div>\n",
              "  </div>\n",
              "  "
            ]
          },
          "metadata": {},
          "execution_count": 10
        }
      ]
    },
    {
      "cell_type": "code",
      "source": [
        "corr_pearson = df.corr()\n",
        "plt.figure(figsize=(12,8))\n",
        "sns.heatmap(corr_pearson, cmap=\"RdBu_r\",annot=True)\n",
        "\n",
        "plt.title('Correlation between Numeric Variables')\n",
        "plt.show()"
      ],
      "metadata": {
        "id": "ZzfZycyAOIB7",
        "outputId": "16cfd02f-7d4d-406a-d945-11ae6ee17bd5",
        "colab": {
          "base_uri": "https://localhost:8080/",
          "height": 580
        }
      },
      "execution_count": 11,
      "outputs": [
        {
          "output_type": "display_data",
          "data": {
            "text/plain": [
              "<Figure size 864x576 with 2 Axes>"
            ],
            "image/png": "[encoded data removed]"
          },
          "metadata": {
            "needs_background": "light"
          }
        }
      ]
    },
    {
      "cell_type": "markdown",
      "source": [
        "2.   Lakukan pemilahan data training dan testing yang sesuai dan proporsional dari data tersebut! (**5 poin**)\n",
        "3.   Tentukan data validasi! (**5 poin**)"
      ],
      "metadata": {
        "id": "AxKBsVT-OuMG"
      }
    },
    {
      "cell_type": "code",
      "source": [
        "# Split data\n",
        "from sklearn.model_selection import train_test_split\n",
        "\n",
        "# Split data training dan dan lainnya\n",
        "# data lainnya, akan kita split lagi menjadi validasi dan testing.\n",
        "# Rasio yang akan kita gunakan adalah 8:1:1\n",
        "df_train, df_unseen = train_test_split(df, test_size=0.2, random_state=0)\n",
        "\n",
        "# Split lagi antara validasi dan testing\n",
        "df_val, df_test = train_test_split(df_unseen, test_size=0.5, random_state=0)\n",
        "\n",
        "# Cek masing-masing ukuran data\n",
        "\n",
        "print(f'Jumlah data asli: {df.shape[0]}')\n",
        "print(f'Jumlah data train: {df_train.shape[0]}')\n",
        "print(f'Jumlah data val: {df_val.shape[0]}')\n",
        "print(f'Jumlah data test: {df_test.shape[0]}')"
      ],
      "metadata": {
        "id": "yzFvM4iqdmGp",
        "outputId": "6c740536-a3ef-4d00-9e9b-fb26ca974185",
        "colab": {
          "base_uri": "https://localhost:8080/"
        }
      },
      "execution_count": 12,
      "outputs": [
        {
          "output_type": "stream",
          "name": "stdout",
          "text": [
            "Jumlah data asli: 68\n",
            "Jumlah data train: 54\n",
            "Jumlah data val: 7\n",
            "Jumlah data test: 7\n"
          ]
        }
      ]
    },
    {
      "cell_type": "markdown",
      "source": [
        "4.   Terapkan dua jenis metode klasifikasi dan lakukan perbandingan akurasi  dengan wajib melibatkan variabel keterlibatan volunteer sampai variabel luaran-luaran yang dihasilkan! (**20 poin**)"
      ],
      "metadata": {
        "id": "1mitC-c_PPn3"
      }
    },
    {
      "cell_type": "code",
      "source": [
        "# Seleksi fitur\n",
        "\n",
        "X = df.iloc[:,2:]\n",
        "y = df['luaran_hki']\n",
        "\n",
        "# Cek jumlah fitur dan instance\n",
        "X.shape"
      ],
      "metadata": {
        "id": "FmF_EvLCUmyA",
        "outputId": "c5ac9b08-20d6-4211-e681-d885ad34d822",
        "colab": {
          "base_uri": "https://localhost:8080/"
        }
      },
      "execution_count": 32,
      "outputs": [
        {
          "output_type": "execute_result",
          "data": {
            "text/plain": [
              "(68, 8)"
            ]
          },
          "metadata": {},
          "execution_count": 32
        }
      ]
    },
    {
      "cell_type": "code",
      "source": [
        "from sklearn.model_selection import train_test_split\n",
        "\n",
        "X_train, X_test, y_train, y_test = train_test_split(X, y, test_size=0.2, random_state=1)"
      ],
      "metadata": {
        "id": "s0x3aXoq-Y23"
      },
      "execution_count": 33,
      "outputs": []
    },
    {
      "cell_type": "markdown",
      "source": [
        "### Traning Decision Tree"
      ],
      "metadata": {
        "id": "DqEZA-um_XH2"
      }
    },
    {
      "cell_type": "code",
      "source": [
        "# Secara default, DecisionTreeClassifier dari scikit-learn akan menggunakan nilai \"Gini\" untuk kriteria\n",
        "# Terdapat beberapa \"hyperparamater\" yang dapat digunakan. Silahka baca dokumentasi\n",
        "# Pada kasus ini kita akan menggunakan parameter default\n",
        "dt = DecisionTreeClassifier()\n",
        "\n",
        "# Sesuaikan dt ke set training\n",
        "dt.fit(X_train, y_train)\n",
        "\n",
        "# Memprediksi label set test\n",
        "y_pred_dt = dt.predict(X_test)\n",
        "\n",
        "#  menghitung set accuracy\n",
        "acc_dt = accuracy_score(y_test, y_pred_dt)\n",
        "print(\"Test set accuracy: {:.2f}\".format(acc_dt))\n",
        "print(f\"Test set accuracy: {acc_dt}\")"
      ],
      "metadata": {
        "id": "hlSbvUJM-jPq",
        "outputId": "d4ea706b-a809-4368-c249-b8561267650a",
        "colab": {
          "base_uri": "https://localhost:8080/"
        }
      },
      "execution_count": 39,
      "outputs": [
        {
          "output_type": "stream",
          "name": "stdout",
          "text": [
            "Test set accuracy: 1.00\n",
            "Test set accuracy: 1.0\n"
          ]
        }
      ]
    },
    {
      "cell_type": "code",
      "source": [
        "from sklearn.metrics import confusion_matrix\n",
        "\n",
        "confusion_matrix(y_test, y_pred_dt)"
      ],
      "metadata": {
        "id": "bq2d1xsTFmts",
        "outputId": "6ee94776-f662-4fb5-e132-d7fbd8e79ba6",
        "colab": {
          "base_uri": "https://localhost:8080/"
        }
      },
      "execution_count": 35,
      "outputs": [
        {
          "output_type": "execute_result",
          "data": {
            "text/plain": [
              "array([[ 1,  0],\n",
              "       [ 0, 13]])"
            ]
          },
          "metadata": {},
          "execution_count": 35
        }
      ]
    },
    {
      "cell_type": "code",
      "source": [
        "from sklearn.metrics import classification_report\n",
        "\n",
        "print('Decision Tree')\n",
        "print(classification_report(y_test, y_pred_dt))"
      ],
      "metadata": {
        "id": "m_vuQXmsHSqh",
        "outputId": "85cf59f5-e2a5-4388-efe0-bafae46239be",
        "colab": {
          "base_uri": "https://localhost:8080/"
        }
      },
      "execution_count": 43,
      "outputs": [
        {
          "output_type": "stream",
          "name": "stdout",
          "text": [
            "Decision Tree\n",
            "              precision    recall  f1-score   support\n",
            "\n",
            "           0       1.00      1.00      1.00         1\n",
            "           1       1.00      1.00      1.00        13\n",
            "\n",
            "    accuracy                           1.00        14\n",
            "   macro avg       1.00      1.00      1.00        14\n",
            "weighted avg       1.00      1.00      1.00        14\n",
            "\n"
          ]
        }
      ]
    },
    {
      "cell_type": "code",
      "source": [
        "#Menghitung prediction probability dari model yang telah dibuat\n",
        "dt_probs = dt.predict_proba(X_test)\n",
        " \n",
        "#Prediction probability berisi '0'\n",
        "random_probs = [0 for _ in range(len(y_test))]"
      ],
      "metadata": {
        "id": "Ds7KlrSsRxLq"
      },
      "execution_count": 46,
      "outputs": []
    },
    {
      "cell_type": "code",
      "source": [
        "dt_probs = dt_probs[:,1]"
      ],
      "metadata": {
        "id": "r4IUdUBiSQji"
      },
      "execution_count": 47,
      "outputs": []
    },
    {
      "cell_type": "code",
      "source": [
        "from sklearn.metrics import roc_curve, roc_auc_score"
      ],
      "metadata": {
        "id": "B7K1YB3iTzgM"
      },
      "execution_count": 48,
      "outputs": []
    },
    {
      "cell_type": "code",
      "source": [
        "#menghitung AUC untuk random model\n",
        "random_auc = roc_auc_score(y_test, random_probs)\n",
        " \n",
        "#menghitung AUC SVM classifier\n",
        "svm_auc = roc_auc_score(y_test, dt_probs)\n",
        " \n",
        "#menampilkan hasil\n",
        "print('Random Prediction : AUCROC = %.3f' % (random_auc))\n",
        "print('SVM : AUCROC = %.3f' % (svm_auc))"
      ],
      "metadata": {
        "id": "k-w95a1gUIbT",
        "outputId": "bee841c6-7bae-4cf8-f353-655d0cdbbe79",
        "colab": {
          "base_uri": "https://localhost:8080/"
        }
      },
      "execution_count": 49,
      "outputs": [
        {
          "output_type": "stream",
          "name": "stdout",
          "text": [
            "Random Prediction : AUCROC = 0.500\n",
            "SVM : AUCROC = 1.000\n"
          ]
        }
      ]
    },
    {
      "cell_type": "code",
      "source": [
        "#menyimpan nilai yang dibutuhkan untuk membuat ROC curve (false positive rate, true positive rate)\n",
        "random_fpr, random_tpr, _ = roc_curve(y_test, random_probs)\n",
        "svm_fpr, svm_tpr, _ = roc_curve(y_test, dt_probs)\n",
        " \n",
        "#plot ROC curve dengan matplotlib.pyplot\n",
        "plt.plot(random_fpr, random_tpr, marker='.', label='Random : (AUCROC = %.3f)' % random_auc)\n",
        "plt.plot(svm_fpr, svm_tpr, marker='.', label='SVM : (AUCROC = %.3f)' % svm_auc)\n",
        " \n",
        "plt.title('ROC Plot')\n",
        "plt.xlabel('False Positive Rate')\n",
        "plt.ylabel('True Positive Rate')\n",
        "plt.legend()\n",
        "plt.show()"
      ],
      "metadata": {
        "id": "kMyu0sE1Ucg7",
        "outputId": "7792fb37-90fb-481c-894e-ac394abc0ac2",
        "colab": {
          "base_uri": "https://localhost:8080/",
          "height": 295
        }
      },
      "execution_count": 51,
      "outputs": [
        {
          "output_type": "display_data",
          "data": {
            "text/plain": [
              "<Figure size 432x288 with 1 Axes>"
            ],
            "image/png": "[encoded data removed]"
          },
          "metadata": {
            "needs_background": "light"
          }
        }
      ]
    },
    {
      "cell_type": "markdown",
      "source": [
        "### Training RandomForest"
      ],
      "metadata": {
        "id": "pk-SIrknAUne"
      }
    },
    {
      "cell_type": "code",
      "source": [
        "# Pada kasus kali ini kita akan menggunakan seluruh parameter default dari RandomForest\n",
        "# Untuk detail parameter (hyperparameter) silahkan cek dokumentasi\n",
        "\n",
        "rf = RandomForestClassifier(n_estimators=10, random_state=1)\n",
        "\n",
        "# Sesuaikan dt ke set training\n",
        "rf.fit(X_train, y_train)\n",
        "\n",
        "# Memprediksi label set test\n",
        "y_pred_rf = rf.predict(X_test)\n",
        "\n",
        "#  menghitung set accuracy\n",
        "acc_rf = accuracy_score(y_test, y_pred_rf)\n",
        "print(\"Test set accuracy: {:.2f}\".format(acc_rf))\n",
        "print(f\"Test set accuracy: {acc_rf}\")"
      ],
      "metadata": {
        "id": "cHOhaqkg-8X0",
        "outputId": "ae759fdb-45ec-43e9-94f8-3cd5426713a9",
        "colab": {
          "base_uri": "https://localhost:8080/"
        }
      },
      "execution_count": 16,
      "outputs": [
        {
          "output_type": "stream",
          "name": "stdout",
          "text": [
            "Test set accuracy: 1.00\n",
            "Test set accuracy: 1.0\n"
          ]
        }
      ]
    },
    {
      "cell_type": "code",
      "source": [
        "from sklearn.metrics import confusion_matrix\n",
        "\n",
        "confusion_matrix(y_test, y_pred_rf)"
      ],
      "metadata": {
        "id": "AM_UqS3lKJ19",
        "outputId": "87edcdb0-7992-4e09-ca94-d8329000a26f",
        "colab": {
          "base_uri": "https://localhost:8080/"
        }
      },
      "execution_count": 40,
      "outputs": [
        {
          "output_type": "execute_result",
          "data": {
            "text/plain": [
              "array([[ 1,  0],\n",
              "       [ 0, 13]])"
            ]
          },
          "metadata": {},
          "execution_count": 40
        }
      ]
    },
    {
      "cell_type": "code",
      "source": [
        "from sklearn.metrics import classification_report\n",
        "\n",
        "print('Random Forest')\n",
        "print(classification_report(y_test, y_pred_rf))"
      ],
      "metadata": {
        "id": "89f-771vJ-VL",
        "outputId": "db089a90-9e72-49c7-d495-749125d3ea88",
        "colab": {
          "base_uri": "https://localhost:8080/"
        }
      },
      "execution_count": 44,
      "outputs": [
        {
          "output_type": "stream",
          "name": "stdout",
          "text": [
            "Random Forest\n",
            "              precision    recall  f1-score   support\n",
            "\n",
            "           0       1.00      1.00      1.00         1\n",
            "           1       1.00      1.00      1.00        13\n",
            "\n",
            "    accuracy                           1.00        14\n",
            "   macro avg       1.00      1.00      1.00        14\n",
            "weighted avg       1.00      1.00      1.00        14\n",
            "\n"
          ]
        }
      ]
    },
    {
      "cell_type": "markdown",
      "source": [
        "5. Terapkan sebuah metode prediksi (berdasarkan tahun, misal: jumlah kegiatan pada tahun tertentu sebagai x dan jumlah  luaran sebagai y) serta hitung akurasinya dengan wajib melibatkan variabel keterlibatan volunteer sampai variabel luaran-luaran yang dihasilkan! (**20 poin**)"
      ],
      "metadata": {
        "id": "5U5lu7MrPT4G"
      }
    },
    {
      "cell_type": "code",
      "source": [
        "#Menghitung prediction probability dari model yang telah dibuat\n",
        "rf_probs = rf.predict_proba(X_test)\n",
        " \n",
        "#Prediction probability berisi '0'\n",
        "random_probs = [0 for _ in range(len(y_test))]"
      ],
      "metadata": {
        "id": "95ddmfcOVCLV"
      },
      "execution_count": 52,
      "outputs": []
    },
    {
      "cell_type": "code",
      "source": [
        "rf_probs = rf_probs[:,1]"
      ],
      "metadata": {
        "id": "GWo9NtNIVNAV"
      },
      "execution_count": 54,
      "outputs": []
    },
    {
      "cell_type": "code",
      "source": [
        "from sklearn.metrics import roc_curve, roc_auc_score"
      ],
      "metadata": {
        "id": "Zmnm7l3RV5SH"
      },
      "execution_count": 55,
      "outputs": []
    },
    {
      "cell_type": "code",
      "source": [
        "#menghitung AUC untuk random model\n",
        "random_auc = roc_auc_score(y_test, random_probs)\n",
        " \n",
        "#menghitung AUC SVM classifier\n",
        "svm_auc = roc_auc_score(y_test, dt_probs)\n",
        " \n",
        "#menampilkan hasil\n",
        "print('Random Prediction : AUCROC = %.3f' % (random_auc))\n",
        "print('SVM : AUCROC = %.3f' % (svm_auc))"
      ],
      "metadata": {
        "id": "iTzoLfcIWfe3",
        "outputId": "4b87edb5-7832-423d-9b1d-aadb675608ba",
        "colab": {
          "base_uri": "https://localhost:8080/"
        }
      },
      "execution_count": 56,
      "outputs": [
        {
          "output_type": "stream",
          "name": "stdout",
          "text": [
            "Random Prediction : AUCROC = 0.500\n",
            "SVM : AUCROC = 1.000\n"
          ]
        }
      ]
    },
    {
      "cell_type": "code",
      "source": [
        "#menyimpan nilai yang dibutuhkan untuk membuat ROC curve (false positive rate, true positive rate)\n",
        "random_fpr, random_tpr, _ = roc_curve(y_test, random_probs)\n",
        "svm_fpr, svm_tpr, _ = roc_curve(y_test, rf_probs)\n",
        " \n",
        "#plot ROC curve dengan matplotlib.pyplot\n",
        "plt.plot(random_fpr, random_tpr, marker='.', label='Random : (AUCROC = %.3f)' % random_auc)\n",
        "plt.plot(svm_fpr, svm_tpr, marker='.', label='SVM : (AUCROC = %.3f)' % svm_auc)\n",
        " \n",
        "plt.title('ROC Plot')\n",
        "plt.xlabel('False Positive Rate')\n",
        "plt.ylabel('True Positive Rate')\n",
        "plt.legend()\n",
        "plt.show()"
      ],
      "metadata": {
        "id": "9aiEaMUHW3mV",
        "outputId": "d63ad516-7c90-48e7-9257-64516c532d8c",
        "colab": {
          "base_uri": "https://localhost:8080/",
          "height": 295
        }
      },
      "execution_count": 57,
      "outputs": [
        {
          "output_type": "display_data",
          "data": {
            "text/plain": [
              "<Figure size 432x288 with 1 Axes>"
            ],
            "image/png": "[encoded data removed]"
          },
          "metadata": {
            "needs_background": "light"
          }
        }
      ]
    },
    {
      "cell_type": "markdown",
      "source": [
        "### Regresi Linier"
      ],
      "metadata": {
        "id": "z93oOFkNTHaS"
      }
    },
    {
      "cell_type": "code",
      "source": [
        "# Buat variabel bebas X dan Y, sebagai contoh ambil dari hasil analisis korelasi dari kegaitan sebelumnya\n",
        "X = df['jml_vltr_terlibat']\n",
        "y = df['keterlibatan_vltr']"
      ],
      "metadata": {
        "id": "iNFwfyXVBjTL"
      },
      "execution_count": 17,
      "outputs": []
    },
    {
      "cell_type": "code",
      "source": [
        "# Buat pemisahan data uji dan data latih dengan proporsi 7:3\n",
        "from sklearn.model_selection import train_test_split\n",
        "X_train, X_test, y_train, y_test = train_test_split(X, y, train_size = 0.7, \n",
        "                                                    test_size = 0.3, random_state = 100)"
      ],
      "metadata": {
        "id": "_EX9jd5eSfUS"
      },
      "execution_count": 18,
      "outputs": []
    },
    {
      "cell_type": "code",
      "source": [
        "# hasil training dtaset\n",
        "X_train\n",
        "y_train"
      ],
      "metadata": {
        "colab": {
          "base_uri": "https://localhost:8080/"
        },
        "id": "n1NLf1DUSjvK",
        "outputId": "c4f78be7-6c2e-4272-ceaf-6b07c1af4d13"
      },
      "execution_count": 19,
      "outputs": [
        {
          "output_type": "execute_result",
          "data": {
            "text/plain": [
              "32    1\n",
              "21    1\n",
              "47    1\n",
              "39    1\n",
              "54    1\n",
              "25    0\n",
              "45    0\n",
              "55    1\n",
              "38    1\n",
              "56    1\n",
              "23    1\n",
              "57    0\n",
              "41    1\n",
              "7     0\n",
              "3     0\n",
              "44    0\n",
              "50    0\n",
              "51    0\n",
              "19    0\n",
              "13    0\n",
              "1     0\n",
              "31    0\n",
              "4     0\n",
              "27    1\n",
              "59    0\n",
              "22    1\n",
              "29    0\n",
              "9     0\n",
              "16    0\n",
              "43    1\n",
              "36    0\n",
              "15    1\n",
              "66    1\n",
              "65    1\n",
              "49    0\n",
              "58    0\n",
              "14    0\n",
              "61    1\n",
              "2     0\n",
              "53    0\n",
              "34    1\n",
              "52    0\n",
              "30    1\n",
              "10    0\n",
              "48    1\n",
              "24    1\n",
              "8     0\n",
              "Name: keterlibatan_vltr, dtype: int64"
            ]
          },
          "metadata": {},
          "execution_count": 19
        }
      ]
    },
    {
      "cell_type": "code",
      "source": [
        "# training model\n",
        "import statsmodels.api as sm\n",
        "\n",
        "X_train_sm = sm.add_constant(X_train)"
      ],
      "metadata": {
        "colab": {
          "base_uri": "https://localhost:8080/"
        },
        "id": "QtATOA-rSycW",
        "outputId": "2b250199-2692-4d80-b032-29199602a6fc"
      },
      "execution_count": 20,
      "outputs": [
        {
          "output_type": "stream",
          "name": "stderr",
          "text": [
            "/usr/local/lib/python3.7/dist-packages/statsmodels/tsa/tsatools.py:142: FutureWarning: In a future version of pandas all arguments of concat except for the argument 'objs' will be keyword-only\n",
            "  x = pd.concat(x[::order], 1)\n"
          ]
        }
      ]
    },
    {
      "cell_type": "code",
      "source": [
        "# fitting garis regresi\n",
        "lr = sm.OLS(y_train, X_train_sm).fit()\n",
        "lr.params"
      ],
      "metadata": {
        "colab": {
          "base_uri": "https://localhost:8080/"
        },
        "id": "RqQfRUfSS0Az",
        "outputId": "35c1f783-bbce-457a-f9dd-18595521e71a"
      },
      "execution_count": 21,
      "outputs": [
        {
          "output_type": "execute_result",
          "data": {
            "text/plain": [
              "const                0.047936\n",
              "jml_vltr_terlibat    0.328895\n",
              "dtype: float64"
            ]
          },
          "metadata": {},
          "execution_count": 21
        }
      ]
    },
    {
      "cell_type": "code",
      "source": [
        "# analisis statistika dari garis regresi\n",
        "lr.summary()"
      ],
      "metadata": {
        "colab": {
          "base_uri": "https://localhost:8080/",
          "height": 439
        },
        "id": "arlsPP-bS3O5",
        "outputId": "575212dd-f98c-4914-bc2c-7bb5bf1500d2"
      },
      "execution_count": 22,
      "outputs": [
        {
          "output_type": "execute_result",
          "data": {
            "text/plain": [
              "<class 'statsmodels.iolib.summary.Summary'>\n",
              "\"\"\"\n",
              "                            OLS Regression Results                            \n",
              "==============================================================================\n",
              "Dep. Variable:      keterlibatan_vltr   R-squared:                       0.893\n",
              "Model:                            OLS   Adj. R-squared:                  0.890\n",
              "Method:                 Least Squares   F-statistic:                     374.4\n",
              "Date:                Sat, 26 Nov 2022   Prob (F-statistic):           1.92e-23\n",
              "Time:                        11:50:52   Log-Likelihood:                 18.613\n",
              "No. Observations:                  47   AIC:                            -33.23\n",
              "Df Residuals:                      45   BIC:                            -29.53\n",
              "Df Model:                           1                                         \n",
              "Covariance Type:            nonrobust                                         \n",
              "=====================================================================================\n",
              "                        coef    std err          t      P>|t|      [0.025      0.975]\n",
              "-------------------------------------------------------------------------------------\n",
              "const                 0.0479      0.032      1.505      0.139      -0.016       0.112\n",
              "jml_vltr_terlibat     0.3289      0.017     19.350      0.000       0.295       0.363\n",
              "==============================================================================\n",
              "Omnibus:                       44.152   Durbin-Watson:                   2.149\n",
              "Prob(Omnibus):                  0.000   Jarque-Bera (JB):              154.757\n",
              "Skew:                           2.508   Prob(JB):                     2.48e-34\n",
              "Kurtosis:                      10.340   Cond. No.                         2.80\n",
              "==============================================================================\n",
              "\n",
              "Notes:\n",
              "[1] Standard Errors assume that the covariance matrix of the errors is correctly specified.\n",
              "\"\"\""
            ],
            "text/html": [
              "<table class=\"simpletable\">\n",
              "<caption>OLS Regression Results</caption>\n",
              "<tr>\n",
              "  <th>Dep. Variable:</th>    <td>keterlibatan_vltr</td> <th>  R-squared:         </th> <td>   0.893</td>\n",
              "</tr>\n",
              "<tr>\n",
              "  <th>Model:</th>                   <td>OLS</td>        <th>  Adj. R-squared:    </th> <td>   0.890</td>\n",
              "</tr>\n",
              "<tr>\n",
              "  <th>Method:</th>             <td>Least Squares</td>   <th>  F-statistic:       </th> <td>   374.4</td>\n",
              "</tr>\n",
              "<tr>\n",
              "  <th>Date:</th>             <td>Sat, 26 Nov 2022</td>  <th>  Prob (F-statistic):</th> <td>1.92e-23</td>\n",
              "</tr>\n",
              "<tr>\n",
              "  <th>Time:</th>                 <td>11:50:52</td>      <th>  Log-Likelihood:    </th> <td>  18.613</td>\n",
              "</tr>\n",
              "<tr>\n",
              "  <th>No. Observations:</th>      <td>    47</td>       <th>  AIC:               </th> <td>  -33.23</td>\n",
              "</tr>\n",
              "<tr>\n",
              "  <th>Df Residuals:</th>          <td>    45</td>       <th>  BIC:               </th> <td>  -29.53</td>\n",
              "</tr>\n",
              "<tr>\n",
              "  <th>Df Model:</th>              <td>     1</td>       <th>                     </th>     <td> </td>   \n",
              "</tr>\n",
              "<tr>\n",
              "  <th>Covariance Type:</th>      <td>nonrobust</td>     <th>                     </th>     <td> </td>   \n",
              "</tr>\n",
              "</table>\n",
              "<table class=\"simpletable\">\n",
              "<tr>\n",
              "          <td></td>             <th>coef</th>     <th>std err</th>      <th>t</th>      <th>P>|t|</th>  <th>[0.025</th>    <th>0.975]</th>  \n",
              "</tr>\n",
              "<tr>\n",
              "  <th>const</th>             <td>    0.0479</td> <td>    0.032</td> <td>    1.505</td> <td> 0.139</td> <td>   -0.016</td> <td>    0.112</td>\n",
              "</tr>\n",
              "<tr>\n",
              "  <th>jml_vltr_terlibat</th> <td>    0.3289</td> <td>    0.017</td> <td>   19.350</td> <td> 0.000</td> <td>    0.295</td> <td>    0.363</td>\n",
              "</tr>\n",
              "</table>\n",
              "<table class=\"simpletable\">\n",
              "<tr>\n",
              "  <th>Omnibus:</th>       <td>44.152</td> <th>  Durbin-Watson:     </th> <td>   2.149</td>\n",
              "</tr>\n",
              "<tr>\n",
              "  <th>Prob(Omnibus):</th> <td> 0.000</td> <th>  Jarque-Bera (JB):  </th> <td> 154.757</td>\n",
              "</tr>\n",
              "<tr>\n",
              "  <th>Skew:</th>          <td> 2.508</td> <th>  Prob(JB):          </th> <td>2.48e-34</td>\n",
              "</tr>\n",
              "<tr>\n",
              "  <th>Kurtosis:</th>      <td>10.340</td> <th>  Cond. No.          </th> <td>    2.80</td>\n",
              "</tr>\n",
              "</table><br/><br/>Notes:<br/>[1] Standard Errors assume that the covariance matrix of the errors is correctly specified."
            ]
          },
          "metadata": {},
          "execution_count": 22
        }
      ]
    },
    {
      "cell_type": "code",
      "source": [
        "# visualisasi garis regresi\n",
        "plt.scatter(X_train, y_train)\n",
        "plt.plot(X_train, 265.2483 + 66.3015*X_train, 'r')\n",
        "plt.show()"
      ],
      "metadata": {
        "colab": {
          "base_uri": "https://localhost:8080/",
          "height": 265
        },
        "id": "U0C9OzkzS8T_",
        "outputId": "7add13b0-fe19-423b-ca5a-92074dbec475"
      },
      "execution_count": 23,
      "outputs": [
        {
          "output_type": "display_data",
          "data": {
            "text/plain": [
              "<Figure size 432x288 with 1 Axes>"
            ],
            "image/png": "[encoded data removed]"
          },
          "metadata": {
            "needs_background": "light"
          }
        }
      ]
    },
    {
      "cell_type": "markdown",
      "source": [
        "6. Buat Confusion Matrix dan ROC berdasarkan klasifikasi yang diterapkan pada nomor 4! (15 poin)"
      ],
      "metadata": {
        "id": "A8Z3iwsGf-_5"
      }
    },
    {
      "cell_type": "markdown",
      "source": [
        "7. Lakukan hyperparameter tunning berdasarkan jawaban nomor 2, 3, dan 4 menggunakan metode Grid Search, Random Search, dan Exhausive Search! (20 poin)\n",
        "8. Tambahkan visualisasi berdasarkan nomor 4 dan 5 (masing-masing nomor minimal satu visualisasi)! (10 poin)"
      ],
      "metadata": {
        "id": "Urt-xLaoydtb"
      }
    }
  ],
  "metadata": {
    "colab": {
      "provenance": [],
      "authorship_tag": "ABX9TyNOv1AukjI4uOl6n4TgoD/6",
      "include_colab_link": true
    },
    "kernelspec": {
      "display_name": "Python 3",
      "name": "python3"
    },
    "language_info": {
      "name": "python"
    }
  },
  "nbformat": 4,
  "nbformat_minor": 0
}