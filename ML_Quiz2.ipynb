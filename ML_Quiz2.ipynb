{
  "cells": [
    {
      "cell_type": "markdown",
      "metadata": {
        "id": "view-in-github",
        "colab_type": "text"
      },
      "source": [
        "<a href=\"https://colab.research.google.com/github/dhikaainul/Machine_Learning_Quiz_2/blob/main/ML_Quiz2.ipynb\" target=\"_parent\"><img src=\"https://colab.research.google.com/assets/colab-badge.svg\" alt=\"Open In Colab\"/></a>"
      ]
    },
    {
      "cell_type": "markdown",
      "source": [
        "**NAMA : DHIKA AINUL LUTHFI**\n",
        "\n",
        "**NIM : 2241727007**\n",
        "\n",
        "**KELAS : TI-4J**"
      ],
      "metadata": {
        "id": "tHKzv1FP-ya5"
      }
    },
    {
      "cell_type": "markdown",
      "source": [
        "### Ketentuan:\n",
        "\n",
        "1.   Pengerjaan secara individu alias setiap mahasiswa!\n",
        "2.   terdapat data dengan nilai #N/A, pertimbangkan cara terbaik untuk mengatasi nilai tersebut.\n",
        "3.   Tidak boleh ada duplikasi pekerjaan antar mahasiswa (evaluasi pemahaman pengerjaan quiz 2 dilaksanakan pada Minggu ke-14)\n",
        "\n",
        "\n",
        "### Soal:\n",
        "\n",
        "\n"
      ],
      "metadata": {
        "id": "bLW6TzCJ_2Pw"
      }
    },
    {
      "cell_type": "markdown",
      "source": [
        "####Persiapan"
      ],
      "metadata": {
        "id": "CZiwBROwAUw8"
      }
    },
    {
      "cell_type": "code",
      "execution_count": 35,
      "metadata": {
        "id": "7FR3lmltnYBG"
      },
      "outputs": [],
      "source": [
        "# import package\n",
        "import numpy as np\n",
        "import pandas as pd\n",
        "import seaborn as sns\n",
        "import matplotlib.pyplot as plt\n",
        "from sklearn.tree import DecisionTreeClassifier # import DT\n",
        "from sklearn.ensemble import RandomForestClassifier # import RandomForest\n",
        "from sklearn.model_selection import train_test_split\n",
        "from sklearn.metrics import accuracy_score, classification_report"
      ]
    },
    {
      "cell_type": "markdown",
      "source": [],
      "metadata": {
        "id": "b84hqy_rdIMv"
      }
    },
    {
      "cell_type": "code",
      "execution_count": 36,
      "metadata": {
        "colab": {
          "base_uri": "https://localhost:8080/",
          "height": 206
        },
        "id": "zp0ahRNPnwhI",
        "outputId": "a7d5d8c6-663b-4853-d7e5-a215a464ec1e"
      },
      "outputs": [
        {
          "output_type": "execute_result",
          "data": {
            "text/plain": [
              "  keterlibatan_vltr  jml_vltr_terlibat  tahun    skema luaran_hki  \\\n",
              "0             TIDAK                  0   2019  REGULER  TIDAK ADA   \n",
              "1             TIDAK                  0   2019  REGULER  TIDAK ADA   \n",
              "2             TIDAK                  0   2019  REGULER  TIDAK ADA   \n",
              "3             TIDAK                  0   2019  REGULER  TIDAK ADA   \n",
              "4             TIDAK                  0   2019  REGULER  TIDAK ADA   \n",
              "\n",
              "  jenis_luaran_hki potensi_hki luaran_lain jenis_luaran_lain  \\\n",
              "0        TIDAK ADA       TIDAK   TIDAK ADA         TIDAK ADA   \n",
              "1        TIDAK ADA       TIDAK   TIDAK ADA         TIDAK ADA   \n",
              "2        TIDAK ADA       TIDAK   TIDAK ADA         TIDAK ADA   \n",
              "3        TIDAK ADA       TIDAK   TIDAK ADA         TIDAK ADA   \n",
              "4        TIDAK ADA       TIDAK   TIDAK ADA         TIDAK ADA   \n",
              "\n",
              "  status_luaran_lain  \n",
              "0          TIDAK ADA  \n",
              "1          TIDAK ADA  \n",
              "2          TIDAK ADA  \n",
              "3          TIDAK ADA  \n",
              "4          TIDAK ADA  "
            ],
            "text/html": [
              "\n",
              "  <div id=\"df-ef4177e0-ab6a-41db-be12-5d7bdb449e3a\">\n",
              "    <div class=\"colab-df-container\">\n",
              "      <div>\n",
              "<style scoped>\n",
              "    .dataframe tbody tr th:only-of-type {\n",
              "        vertical-align: middle;\n",
              "    }\n",
              "\n",
              "    .dataframe tbody tr th {\n",
              "        vertical-align: top;\n",
              "    }\n",
              "\n",
              "    .dataframe thead th {\n",
              "        text-align: right;\n",
              "    }\n",
              "</style>\n",
              "<table border=\"1\" class=\"dataframe\">\n",
              "  <thead>\n",
              "    <tr style=\"text-align: right;\">\n",
              "      <th></th>\n",
              "      <th>keterlibatan_vltr</th>\n",
              "      <th>jml_vltr_terlibat</th>\n",
              "      <th>tahun</th>\n",
              "      <th>skema</th>\n",
              "      <th>luaran_hki</th>\n",
              "      <th>jenis_luaran_hki</th>\n",
              "      <th>potensi_hki</th>\n",
              "      <th>luaran_lain</th>\n",
              "      <th>jenis_luaran_lain</th>\n",
              "      <th>status_luaran_lain</th>\n",
              "    </tr>\n",
              "  </thead>\n",
              "  <tbody>\n",
              "    <tr>\n",
              "      <th>0</th>\n",
              "      <td>TIDAK</td>\n",
              "      <td>0</td>\n",
              "      <td>2019</td>\n",
              "      <td>REGULER</td>\n",
              "      <td>TIDAK ADA</td>\n",
              "      <td>TIDAK ADA</td>\n",
              "      <td>TIDAK</td>\n",
              "      <td>TIDAK ADA</td>\n",
              "      <td>TIDAK ADA</td>\n",
              "      <td>TIDAK ADA</td>\n",
              "    </tr>\n",
              "    <tr>\n",
              "      <th>1</th>\n",
              "      <td>TIDAK</td>\n",
              "      <td>0</td>\n",
              "      <td>2019</td>\n",
              "      <td>REGULER</td>\n",
              "      <td>TIDAK ADA</td>\n",
              "      <td>TIDAK ADA</td>\n",
              "      <td>TIDAK</td>\n",
              "      <td>TIDAK ADA</td>\n",
              "      <td>TIDAK ADA</td>\n",
              "      <td>TIDAK ADA</td>\n",
              "    </tr>\n",
              "    <tr>\n",
              "      <th>2</th>\n",
              "      <td>TIDAK</td>\n",
              "      <td>0</td>\n",
              "      <td>2019</td>\n",
              "      <td>REGULER</td>\n",
              "      <td>TIDAK ADA</td>\n",
              "      <td>TIDAK ADA</td>\n",
              "      <td>TIDAK</td>\n",
              "      <td>TIDAK ADA</td>\n",
              "      <td>TIDAK ADA</td>\n",
              "      <td>TIDAK ADA</td>\n",
              "    </tr>\n",
              "    <tr>\n",
              "      <th>3</th>\n",
              "      <td>TIDAK</td>\n",
              "      <td>0</td>\n",
              "      <td>2019</td>\n",
              "      <td>REGULER</td>\n",
              "      <td>TIDAK ADA</td>\n",
              "      <td>TIDAK ADA</td>\n",
              "      <td>TIDAK</td>\n",
              "      <td>TIDAK ADA</td>\n",
              "      <td>TIDAK ADA</td>\n",
              "      <td>TIDAK ADA</td>\n",
              "    </tr>\n",
              "    <tr>\n",
              "      <th>4</th>\n",
              "      <td>TIDAK</td>\n",
              "      <td>0</td>\n",
              "      <td>2019</td>\n",
              "      <td>REGULER</td>\n",
              "      <td>TIDAK ADA</td>\n",
              "      <td>TIDAK ADA</td>\n",
              "      <td>TIDAK</td>\n",
              "      <td>TIDAK ADA</td>\n",
              "      <td>TIDAK ADA</td>\n",
              "      <td>TIDAK ADA</td>\n",
              "    </tr>\n",
              "  </tbody>\n",
              "</table>\n",
              "</div>\n",
              "      <button class=\"colab-df-convert\" onclick=\"convertToInteractive('df-ef4177e0-ab6a-41db-be12-5d7bdb449e3a')\"\n",
              "              title=\"Convert this dataframe to an interactive table.\"\n",
              "              style=\"display:none;\">\n",
              "        \n",
              "  <svg xmlns=\"http://www.w3.org/2000/svg\" height=\"24px\"viewBox=\"0 0 24 24\"\n",
              "       width=\"24px\">\n",
              "    <path d=\"M0 0h24v24H0V0z\" fill=\"none\"/>\n",
              "    <path d=\"M18.56 5.44l.94 2.06.94-2.06 2.06-.94-2.06-.94-.94-2.06-.94 2.06-2.06.94zm-11 1L8.5 8.5l.94-2.06 2.06-.94-2.06-.94L8.5 2.5l-.94 2.06-2.06.94zm10 10l.94 2.06.94-2.06 2.06-.94-2.06-.94-.94-2.06-.94 2.06-2.06.94z\"/><path d=\"M17.41 7.96l-1.37-1.37c-.4-.4-.92-.59-1.43-.59-.52 0-1.04.2-1.43.59L10.3 9.45l-7.72 7.72c-.78.78-.78 2.05 0 2.83L4 21.41c.39.39.9.59 1.41.59.51 0 1.02-.2 1.41-.59l7.78-7.78 2.81-2.81c.8-.78.8-2.07 0-2.86zM5.41 20L4 18.59l7.72-7.72 1.47 1.35L5.41 20z\"/>\n",
              "  </svg>\n",
              "      </button>\n",
              "      \n",
              "  <style>\n",
              "    .colab-df-container {\n",
              "      display:flex;\n",
              "      flex-wrap:wrap;\n",
              "      gap: 12px;\n",
              "    }\n",
              "\n",
              "    .colab-df-convert {\n",
              "      background-color: #E8F0FE;\n",
              "      border: none;\n",
              "      border-radius: 50%;\n",
              "      cursor: pointer;\n",
              "      display: none;\n",
              "      fill: #1967D2;\n",
              "      height: 32px;\n",
              "      padding: 0 0 0 0;\n",
              "      width: 32px;\n",
              "    }\n",
              "\n",
              "    .colab-df-convert:hover {\n",
              "      background-color: #E2EBFA;\n",
              "      box-shadow: 0px 1px 2px rgba(60, 64, 67, 0.3), 0px 1px 3px 1px rgba(60, 64, 67, 0.15);\n",
              "      fill: #174EA6;\n",
              "    }\n",
              "\n",
              "    [theme=dark] .colab-df-convert {\n",
              "      background-color: #3B4455;\n",
              "      fill: #D2E3FC;\n",
              "    }\n",
              "\n",
              "    [theme=dark] .colab-df-convert:hover {\n",
              "      background-color: #434B5C;\n",
              "      box-shadow: 0px 1px 3px 1px rgba(0, 0, 0, 0.15);\n",
              "      filter: drop-shadow(0px 1px 2px rgba(0, 0, 0, 0.3));\n",
              "      fill: #FFFFFF;\n",
              "    }\n",
              "  </style>\n",
              "\n",
              "      <script>\n",
              "        const buttonEl =\n",
              "          document.querySelector('#df-ef4177e0-ab6a-41db-be12-5d7bdb449e3a button.colab-df-convert');\n",
              "        buttonEl.style.display =\n",
              "          google.colab.kernel.accessAllowed ? 'block' : 'none';\n",
              "\n",
              "        async function convertToInteractive(key) {\n",
              "          const element = document.querySelector('#df-ef4177e0-ab6a-41db-be12-5d7bdb449e3a');\n",
              "          const dataTable =\n",
              "            await google.colab.kernel.invokeFunction('convertToInteractive',\n",
              "                                                     [key], {});\n",
              "          if (!dataTable) return;\n",
              "\n",
              "          const docLinkHtml = 'Like what you see? Visit the ' +\n",
              "            '<a target=\"_blank\" href=https://colab.research.google.com/notebooks/data_table.ipynb>data table notebook</a>'\n",
              "            + ' to learn more about interactive tables.';\n",
              "          element.innerHTML = '';\n",
              "          dataTable['output_type'] = 'display_data';\n",
              "          await google.colab.output.renderOutput(dataTable, element);\n",
              "          const docLink = document.createElement('div');\n",
              "          docLink.innerHTML = docLinkHtml;\n",
              "          element.appendChild(docLink);\n",
              "        }\n",
              "      </script>\n",
              "    </div>\n",
              "  </div>\n",
              "  "
            ]
          },
          "metadata": {},
          "execution_count": 36
        }
      ],
      "source": [
        "# baca data\n",
        "df = pd.read_csv('dataset_quiz.csv')\n",
        "df.head()"
      ]
    },
    {
      "cell_type": "code",
      "source": [
        "df[df['skema'] == 'KEMITRAAN']['skema'].count()"
      ],
      "metadata": {
        "id": "Fz1jqYnNfGy0",
        "outputId": "0b11d0af-a1c4-46c5-8bfd-a382c3e64312",
        "colab": {
          "base_uri": "https://localhost:8080/"
        }
      },
      "execution_count": 38,
      "outputs": [
        {
          "output_type": "execute_result",
          "data": {
            "text/plain": [
              "3"
            ]
          },
          "metadata": {},
          "execution_count": 38
        }
      ]
    },
    {
      "cell_type": "code",
      "source": [
        "import matplotlib.pyplot as plt\n",
        "%matplotlib inline\n",
        "\n",
        "jenis_luaran_lain= ['TIDAK ADA', 'Publikasi Media Massa', 'Artikel Ilmiah', 'Modul Ajar']\n",
        "jum_jenis_luaran_lain = df[df['jenis_luaran_lain'] == 'TIDAK ADA']['jenis_luaran_lain'].count(),df[df['jenis_luaran_lain'] == 'Publikasi Media Massa']['jenis_luaran_lain'].count(),df[df['jenis_luaran_lain'] == 'Artikel Ilmiah']['jenis_luaran_lain'].count(),df[df['jenis_luaran_lain'] == 'Modul Ajar']['jenis_luaran_lain'].count()\n",
        "\n",
        "plt.figure(figsize=(12,7))\n",
        "plt.bar(jenis_luaran_lain, jum_jenis_luaran_lain, color='lightcoral')\n",
        "\n",
        "plt.title('Jumlah Keluaran Lain', size=16)\n",
        "plt.ylabel('Jumlah', size=14)\n",
        "plt.xticks(size=12)\n",
        "plt.yticks(size=12)\n",
        "\n",
        "plt.show()"
      ],
      "metadata": {
        "id": "MzkT1s2nnzk8",
        "outputId": "170b9c90-9770-4f65-8b11-f1b85eb053b7",
        "colab": {
          "base_uri": "https://localhost:8080/",
          "height": 449
        }
      },
      "execution_count": 39,
      "outputs": [
        {
          "output_type": "display_data",
          "data": {
            "text/plain": [
              "<Figure size 864x504 with 1 Axes>"
            ],
            "image/png": "[encoded data removed]"
          },
          "metadata": {
            "needs_background": "light"
          }
        }
      ]
    },
    {
      "cell_type": "code",
      "source": [
        "import matplotlib.pyplot as plt\n",
        "%matplotlib inline\n",
        "\n",
        "skema = ['TIDAK ADA', 'Hak Cipta']\n",
        "jum_skema = df[df['jenis_luaran_hki'] == 'TIDAK ADA']['jenis_luaran_hki'].count(),df[df['jenis_luaran_hki'] == 'Hak Cipta']['jenis_luaran_hki'].count()\n",
        "\n",
        "plt.figure(figsize=(12,7))\n",
        "plt.bar(skema, jum_skema, color='lightcoral')\n",
        "\n",
        "plt.title('Jumlah Keluaran HKI', size=16)\n",
        "plt.ylabel('Jumlah TIDAK ADA dan Hak Cipta', size=14)\n",
        "plt.xticks(size=12)\n",
        "plt.yticks(size=12)\n",
        "\n",
        "plt.show()"
      ],
      "metadata": {
        "id": "oA5SxF1Xm9m4",
        "outputId": "1198fe18-42f9-4a82-b2c5-2d11d7799fc5",
        "colab": {
          "base_uri": "https://localhost:8080/",
          "height": 449
        }
      },
      "execution_count": 40,
      "outputs": [
        {
          "output_type": "display_data",
          "data": {
            "text/plain": [
              "<Figure size 864x504 with 1 Axes>"
            ],
            "image/png": "[encoded data removed]"
          },
          "metadata": {
            "needs_background": "light"
          }
        }
      ]
    },
    {
      "cell_type": "code",
      "source": [
        "import matplotlib.pyplot as plt\n",
        "%matplotlib inline\n",
        "\n",
        "ktrlbtn = ['REGULER', 'KEMITRAAN']\n",
        "jum_ktrlbtn = df[df['skema'] == 'REGULER']['skema'].count(),df[df['skema'] == 'KEMITRAAN']['skema'].count()\n",
        "\n",
        "plt.figure(figsize=(12,7))\n",
        "plt.bar(ktrlbtn, jum_ktrlbtn, color='lightcoral')\n",
        "\n",
        "plt.title('Jumlah Skema', size=16)\n",
        "plt.ylabel('Jumlah REGULER dan KEMITRAAN', size=14)\n",
        "plt.xticks(size=12)\n",
        "plt.yticks(size=12)\n",
        "\n",
        "plt.show()"
      ],
      "metadata": {
        "id": "MKidOJa7kwnO",
        "outputId": "4a38be55-f4fd-403f-f764-43fe4b38abd6",
        "colab": {
          "base_uri": "https://localhost:8080/",
          "height": 449
        }
      },
      "execution_count": 41,
      "outputs": [
        {
          "output_type": "display_data",
          "data": {
            "text/plain": [
              "<Figure size 864x504 with 1 Axes>"
            ],
            "image/png": "[encoded data removed]"
          },
          "metadata": {
            "needs_background": "light"
          }
        }
      ]
    },
    {
      "cell_type": "code",
      "source": [
        "import matplotlib.pyplot as plt\n",
        "%matplotlib inline\n",
        "\n",
        "ktrlbtn = ['IYA', 'TIDAK']\n",
        "jum_ktrlbtn = df[df['keterlibatan_vltr'] == 'YA']['keterlibatan_vltr'].count(),df[df['keterlibatan_vltr'] == 'TIDAK']['keterlibatan_vltr'].count()\n",
        "\n",
        "plt.figure(figsize=(12,7))\n",
        "plt.bar(ktrlbtn, jum_ktrlbtn, color='lightcoral')\n",
        "\n",
        "plt.title('Jumlah Keterlibatan Volunter', size=16)\n",
        "plt.ylabel('Jumlah IYA dan TIDAK', size=14)\n",
        "plt.xticks(size=12)\n",
        "plt.yticks(size=12)\n",
        "\n",
        "plt.show()"
      ],
      "metadata": {
        "id": "Ezvk81AfhD91",
        "outputId": "ac9c8ba5-0efd-49f7-d208-443d5f1e3945",
        "colab": {
          "base_uri": "https://localhost:8080/",
          "height": 449
        }
      },
      "execution_count": 42,
      "outputs": [
        {
          "output_type": "display_data",
          "data": {
            "text/plain": [
              "<Figure size 864x504 with 1 Axes>"
            ],
            "image/png": "[encoded data removed]"
          },
          "metadata": {
            "needs_background": "light"
          }
        }
      ]
    },
    {
      "cell_type": "code",
      "source": [
        "import matplotlib.pyplot as plt\n",
        "%matplotlib inline\n",
        "\n",
        "plt.figure(figsize=(12,7))\n",
        "plt.bar(df['tahun'], df['jml_vltr_terlibat'], color='lightcoral')\n",
        "\n",
        "plt.title('Jumlah Volunter Yang Terlibat Terhadap Tahun', size=16)\n",
        "plt.ylabel('Jumlah Mahasiswa', size=14)\n",
        "plt.xticks(size=12)\n",
        "plt.yticks(size=12)\n",
        "\n",
        "plt.show()"
      ],
      "metadata": {
        "id": "f_RJptDqVL-r",
        "outputId": "90f4e98f-d2d9-4a0e-865d-b8489ca22703",
        "colab": {
          "base_uri": "https://localhost:8080/",
          "height": 449
        }
      },
      "execution_count": 43,
      "outputs": [
        {
          "output_type": "display_data",
          "data": {
            "text/plain": [
              "<Figure size 864x504 with 1 Axes>"
            ],
            "image/png": "[encoded data removed]"
          },
          "metadata": {
            "needs_background": "light"
          }
        }
      ]
    },
    {
      "cell_type": "code",
      "source": [
        "from sklearn.preprocessing import LabelEncoder\n",
        "\n",
        "labelencoder=LabelEncoder()\n",
        "\n",
        "for column in df.columns:\n",
        "    df[column] = labelencoder.fit_transform(df[column])\n",
        "\n",
        "df.head()"
      ],
      "metadata": {
        "colab": {
          "base_uri": "https://localhost:8080/",
          "height": 206
        },
        "id": "JW4NidERfpNQ",
        "outputId": "bf9431f4-0c8e-42db-9d2a-6e8ad5affb78"
      },
      "execution_count": 44,
      "outputs": [
        {
          "output_type": "execute_result",
          "data": {
            "text/plain": [
              "   keterlibatan_vltr  jml_vltr_terlibat  tahun  skema  luaran_hki  \\\n",
              "0                  0                  0      0      1           1   \n",
              "1                  0                  0      0      1           1   \n",
              "2                  0                  0      0      1           1   \n",
              "3                  0                  0      0      1           1   \n",
              "4                  0                  0      0      1           1   \n",
              "\n",
              "   jenis_luaran_hki  potensi_hki  luaran_lain  jenis_luaran_lain  \\\n",
              "0                 1            1            0                  3   \n",
              "1                 1            1            0                  3   \n",
              "2                 1            1            0                  3   \n",
              "3                 1            1            0                  3   \n",
              "4                 1            1            0                  3   \n",
              "\n",
              "   status_luaran_lain  \n",
              "0                   1  \n",
              "1                   1  \n",
              "2                   1  \n",
              "3                   1  \n",
              "4                   1  "
            ],
            "text/html": [
              "\n",
              "  <div id=\"df-0d2cad2b-620a-4ba9-ad7b-86da07a6664a\">\n",
              "    <div class=\"colab-df-container\">\n",
              "      <div>\n",
              "<style scoped>\n",
              "    .dataframe tbody tr th:only-of-type {\n",
              "        vertical-align: middle;\n",
              "    }\n",
              "\n",
              "    .dataframe tbody tr th {\n",
              "        vertical-align: top;\n",
              "    }\n",
              "\n",
              "    .dataframe thead th {\n",
              "        text-align: right;\n",
              "    }\n",
              "</style>\n",
              "<table border=\"1\" class=\"dataframe\">\n",
              "  <thead>\n",
              "    <tr style=\"text-align: right;\">\n",
              "      <th></th>\n",
              "      <th>keterlibatan_vltr</th>\n",
              "      <th>jml_vltr_terlibat</th>\n",
              "      <th>tahun</th>\n",
              "      <th>skema</th>\n",
              "      <th>luaran_hki</th>\n",
              "      <th>jenis_luaran_hki</th>\n",
              "      <th>potensi_hki</th>\n",
              "      <th>luaran_lain</th>\n",
              "      <th>jenis_luaran_lain</th>\n",
              "      <th>status_luaran_lain</th>\n",
              "    </tr>\n",
              "  </thead>\n",
              "  <tbody>\n",
              "    <tr>\n",
              "      <th>0</th>\n",
              "      <td>0</td>\n",
              "      <td>0</td>\n",
              "      <td>0</td>\n",
              "      <td>1</td>\n",
              "      <td>1</td>\n",
              "      <td>1</td>\n",
              "      <td>1</td>\n",
              "      <td>0</td>\n",
              "      <td>3</td>\n",
              "      <td>1</td>\n",
              "    </tr>\n",
              "    <tr>\n",
              "      <th>1</th>\n",
              "      <td>0</td>\n",
              "      <td>0</td>\n",
              "      <td>0</td>\n",
              "      <td>1</td>\n",
              "      <td>1</td>\n",
              "      <td>1</td>\n",
              "      <td>1</td>\n",
              "      <td>0</td>\n",
              "      <td>3</td>\n",
              "      <td>1</td>\n",
              "    </tr>\n",
              "    <tr>\n",
              "      <th>2</th>\n",
              "      <td>0</td>\n",
              "      <td>0</td>\n",
              "      <td>0</td>\n",
              "      <td>1</td>\n",
              "      <td>1</td>\n",
              "      <td>1</td>\n",
              "      <td>1</td>\n",
              "      <td>0</td>\n",
              "      <td>3</td>\n",
              "      <td>1</td>\n",
              "    </tr>\n",
              "    <tr>\n",
              "      <th>3</th>\n",
              "      <td>0</td>\n",
              "      <td>0</td>\n",
              "      <td>0</td>\n",
              "      <td>1</td>\n",
              "      <td>1</td>\n",
              "      <td>1</td>\n",
              "      <td>1</td>\n",
              "      <td>0</td>\n",
              "      <td>3</td>\n",
              "      <td>1</td>\n",
              "    </tr>\n",
              "    <tr>\n",
              "      <th>4</th>\n",
              "      <td>0</td>\n",
              "      <td>0</td>\n",
              "      <td>0</td>\n",
              "      <td>1</td>\n",
              "      <td>1</td>\n",
              "      <td>1</td>\n",
              "      <td>1</td>\n",
              "      <td>0</td>\n",
              "      <td>3</td>\n",
              "      <td>1</td>\n",
              "    </tr>\n",
              "  </tbody>\n",
              "</table>\n",
              "</div>\n",
              "      <button class=\"colab-df-convert\" onclick=\"convertToInteractive('df-0d2cad2b-620a-4ba9-ad7b-86da07a6664a')\"\n",
              "              title=\"Convert this dataframe to an interactive table.\"\n",
              "              style=\"display:none;\">\n",
              "        \n",
              "  <svg xmlns=\"http://www.w3.org/2000/svg\" height=\"24px\"viewBox=\"0 0 24 24\"\n",
              "       width=\"24px\">\n",
              "    <path d=\"M0 0h24v24H0V0z\" fill=\"none\"/>\n",
              "    <path d=\"M18.56 5.44l.94 2.06.94-2.06 2.06-.94-2.06-.94-.94-2.06-.94 2.06-2.06.94zm-11 1L8.5 8.5l.94-2.06 2.06-.94-2.06-.94L8.5 2.5l-.94 2.06-2.06.94zm10 10l.94 2.06.94-2.06 2.06-.94-2.06-.94-.94-2.06-.94 2.06-2.06.94z\"/><path d=\"M17.41 7.96l-1.37-1.37c-.4-.4-.92-.59-1.43-.59-.52 0-1.04.2-1.43.59L10.3 9.45l-7.72 7.72c-.78.78-.78 2.05 0 2.83L4 21.41c.39.39.9.59 1.41.59.51 0 1.02-.2 1.41-.59l7.78-7.78 2.81-2.81c.8-.78.8-2.07 0-2.86zM5.41 20L4 18.59l7.72-7.72 1.47 1.35L5.41 20z\"/>\n",
              "  </svg>\n",
              "      </button>\n",
              "      \n",
              "  <style>\n",
              "    .colab-df-container {\n",
              "      display:flex;\n",
              "      flex-wrap:wrap;\n",
              "      gap: 12px;\n",
              "    }\n",
              "\n",
              "    .colab-df-convert {\n",
              "      background-color: #E8F0FE;\n",
              "      border: none;\n",
              "      border-radius: 50%;\n",
              "      cursor: pointer;\n",
              "      display: none;\n",
              "      fill: #1967D2;\n",
              "      height: 32px;\n",
              "      padding: 0 0 0 0;\n",
              "      width: 32px;\n",
              "    }\n",
              "\n",
              "    .colab-df-convert:hover {\n",
              "      background-color: #E2EBFA;\n",
              "      box-shadow: 0px 1px 2px rgba(60, 64, 67, 0.3), 0px 1px 3px 1px rgba(60, 64, 67, 0.15);\n",
              "      fill: #174EA6;\n",
              "    }\n",
              "\n",
              "    [theme=dark] .colab-df-convert {\n",
              "      background-color: #3B4455;\n",
              "      fill: #D2E3FC;\n",
              "    }\n",
              "\n",
              "    [theme=dark] .colab-df-convert:hover {\n",
              "      background-color: #434B5C;\n",
              "      box-shadow: 0px 1px 3px 1px rgba(0, 0, 0, 0.15);\n",
              "      filter: drop-shadow(0px 1px 2px rgba(0, 0, 0, 0.3));\n",
              "      fill: #FFFFFF;\n",
              "    }\n",
              "  </style>\n",
              "\n",
              "      <script>\n",
              "        const buttonEl =\n",
              "          document.querySelector('#df-0d2cad2b-620a-4ba9-ad7b-86da07a6664a button.colab-df-convert');\n",
              "        buttonEl.style.display =\n",
              "          google.colab.kernel.accessAllowed ? 'block' : 'none';\n",
              "\n",
              "        async function convertToInteractive(key) {\n",
              "          const element = document.querySelector('#df-0d2cad2b-620a-4ba9-ad7b-86da07a6664a');\n",
              "          const dataTable =\n",
              "            await google.colab.kernel.invokeFunction('convertToInteractive',\n",
              "                                                     [key], {});\n",
              "          if (!dataTable) return;\n",
              "\n",
              "          const docLinkHtml = 'Like what you see? Visit the ' +\n",
              "            '<a target=\"_blank\" href=https://colab.research.google.com/notebooks/data_table.ipynb>data table notebook</a>'\n",
              "            + ' to learn more about interactive tables.';\n",
              "          element.innerHTML = '';\n",
              "          dataTable['output_type'] = 'display_data';\n",
              "          await google.colab.output.renderOutput(dataTable, element);\n",
              "          const docLink = document.createElement('div');\n",
              "          docLink.innerHTML = docLinkHtml;\n",
              "          element.appendChild(docLink);\n",
              "        }\n",
              "      </script>\n",
              "    </div>\n",
              "  </div>\n",
              "  "
            ]
          },
          "metadata": {},
          "execution_count": 44
        }
      ]
    },
    {
      "cell_type": "code",
      "source": [
        "corr_pearson = df.corr()\n",
        "plt.figure(figsize=(12,8))\n",
        "sns.heatmap(corr_pearson, cmap=\"RdBu_r\",annot=True)\n",
        "\n",
        "plt.title('Correlation between Numeric Variables')\n",
        "plt.show()"
      ],
      "metadata": {
        "id": "ZzfZycyAOIB7",
        "outputId": "57faa771-7e64-48f9-fa9d-0a6f34e6ec74",
        "colab": {
          "base_uri": "https://localhost:8080/",
          "height": 580
        }
      },
      "execution_count": 45,
      "outputs": [
        {
          "output_type": "display_data",
          "data": {
            "text/plain": [
              "<Figure size 864x576 with 2 Axes>"
            ],
            "image/png": "[encoded data removed]"
          },
          "metadata": {
            "needs_background": "light"
          }
        }
      ]
    },
    {
      "cell_type": "markdown",
      "source": [
        "1.   Buat 5 jenis visualisasi yang dapat dihasilkan dari data yang diberikan! (**5 poin**)"
      ],
      "metadata": {
        "id": "8BvXrIq5OrYw"
      }
    },
    {
      "cell_type": "markdown",
      "source": [
        "2.   Lakukan pemilahan data training dan testing yang sesuai dan proporsional dari data tersebut! (**5 poin**)\n",
        "3.   Tentukan data validasi! (**5 poin**)"
      ],
      "metadata": {
        "id": "AxKBsVT-OuMG"
      }
    },
    {
      "cell_type": "code",
      "source": [
        "# Split data\n",
        "from sklearn.model_selection import train_test_split\n",
        "\n",
        "# Split data training dan dan lainnya\n",
        "# data lainnya, akan kita split lagi menjadi validasi dan testing.\n",
        "# Rasio yang akan kita gunakan adalah 8:1:1\n",
        "df_train, df_unseen = train_test_split(df, test_size=0.2, random_state=0)\n",
        "\n",
        "# Split lagi antara validasi dan testing\n",
        "df_val, df_test = train_test_split(df_unseen, test_size=0.5, random_state=0)\n",
        "\n",
        "# Cek masing-masing ukuran data\n",
        "\n",
        "print(f'Jumlah data asli: {df.shape[0]}')\n",
        "print(f'Jumlah data train: {df_train.shape[0]}')\n",
        "print(f'Jumlah data val: {df_val.shape[0]}')\n",
        "print(f'Jumlah data test: {df_test.shape[0]}')"
      ],
      "metadata": {
        "id": "yzFvM4iqdmGp",
        "outputId": "ef20fdaa-214d-420a-cf6f-6a09b221e3c6",
        "colab": {
          "base_uri": "https://localhost:8080/"
        }
      },
      "execution_count": 46,
      "outputs": [
        {
          "output_type": "stream",
          "name": "stdout",
          "text": [
            "Jumlah data asli: 68\n",
            "Jumlah data train: 54\n",
            "Jumlah data val: 7\n",
            "Jumlah data test: 7\n"
          ]
        }
      ]
    },
    {
      "cell_type": "markdown",
      "source": [
        "4.   Terapkan dua jenis metode klasifikasi dan lakukan perbandingan akurasi  dengan wajib melibatkan variabel keterlibatan volunteer sampai variabel luaran-luaran yang dihasilkan! (**20 poin**)"
      ],
      "metadata": {
        "id": "1mitC-c_PPn3"
      }
    },
    {
      "cell_type": "code",
      "source": [
        "# Seleksi fitur\n",
        "\n",
        "X = df.iloc[:,2:]\n",
        "y = df['keterlibatan_vltr']\n",
        "\n",
        "# Cek jumlah fitur dan instance\n",
        "X.shape"
      ],
      "metadata": {
        "id": "FmF_EvLCUmyA",
        "outputId": "bd52b729-b77f-440b-f00f-9c7082424497",
        "colab": {
          "base_uri": "https://localhost:8080/"
        }
      },
      "execution_count": 47,
      "outputs": [
        {
          "output_type": "execute_result",
          "data": {
            "text/plain": [
              "(68, 8)"
            ]
          },
          "metadata": {},
          "execution_count": 47
        }
      ]
    },
    {
      "cell_type": "code",
      "source": [
        "from sklearn.model_selection import train_test_split\n",
        "\n",
        "X_train, X_test, y_train, y_test = train_test_split(X, y, test_size=0.2, random_state=1)"
      ],
      "metadata": {
        "id": "s0x3aXoq-Y23"
      },
      "execution_count": 48,
      "outputs": []
    },
    {
      "cell_type": "markdown",
      "source": [
        "### Traning Decision Tree"
      ],
      "metadata": {
        "id": "DqEZA-um_XH2"
      }
    },
    {
      "cell_type": "code",
      "source": [
        "# Secara default, DecisionTreeClassifier dari scikit-learn akan menggunakan nilai \"Gini\" untuk kriteria\n",
        "# Terdapat beberapa \"hyperparamater\" yang dapat digunakan. Silahka baca dokumentasi\n",
        "# Pada kasus ini kita akan menggunakan parameter default\n",
        "dt = DecisionTreeClassifier()\n",
        "\n",
        "# Sesuaikan dt ke set training\n",
        "dt.fit(X_train, y_train)\n",
        "\n",
        "# Memprediksi label set test\n",
        "y_pred_dt = dt.predict(X_test)\n",
        "\n",
        "#  menghitung set accuracy\n",
        "acc_dt = accuracy_score(y_test, y_pred_dt)\n",
        "print(\"Test set accuracy: {:.2f}\".format(acc_dt))\n",
        "print(f\"Test set accuracy: {acc_dt}\")"
      ],
      "metadata": {
        "id": "hlSbvUJM-jPq",
        "outputId": "52263f20-7e25-4a96-f1d1-9f52da141286",
        "colab": {
          "base_uri": "https://localhost:8080/"
        }
      },
      "execution_count": 49,
      "outputs": [
        {
          "output_type": "stream",
          "name": "stdout",
          "text": [
            "Test set accuracy: 0.50\n",
            "Test set accuracy: 0.5\n"
          ]
        }
      ]
    },
    {
      "cell_type": "markdown",
      "source": [
        "### Training RandomForest"
      ],
      "metadata": {
        "id": "pk-SIrknAUne"
      }
    },
    {
      "cell_type": "code",
      "source": [
        "# Pada kasus kali ini kita akan menggunakan seluruh parameter default dari RandomForest\n",
        "# Untuk detail parameter (hyperparameter) silahkan cek dokumentasi\n",
        "\n",
        "rf = RandomForestClassifier(n_estimators=10, random_state=1)\n",
        "\n",
        "# Sesuaikan dt ke set training\n",
        "rf.fit(X_train, y_train)\n",
        "\n",
        "# Memprediksi label set test\n",
        "y_pred_rf = rf.predict(X_test)\n",
        "\n",
        "#  menghitung set accuracy\n",
        "acc_rf = accuracy_score(y_test, y_pred_rf)\n",
        "print(\"Test set accuracy: {:.2f}\".format(acc_rf))\n",
        "print(f\"Test set accuracy: {acc_rf}\")"
      ],
      "metadata": {
        "id": "cHOhaqkg-8X0",
        "outputId": "2a3d5e9a-9715-4984-8f8a-597df6ea2b61",
        "colab": {
          "base_uri": "https://localhost:8080/"
        }
      },
      "execution_count": 50,
      "outputs": [
        {
          "output_type": "stream",
          "name": "stdout",
          "text": [
            "Test set accuracy: 0.57\n",
            "Test set accuracy: 0.5714285714285714\n"
          ]
        }
      ]
    },
    {
      "cell_type": "markdown",
      "source": [
        "5. Terapkan sebuah metode prediksi (berdasarkan tahun, misal: jumlah kegiatan pada tahun tertentu sebagai x dan jumlah  luaran sebagai y) serta hitung akurasinya dengan wajib melibatkan variabel keterlibatan volunteer sampai variabel luaran-luaran yang dihasilkan! (**20 poin**)"
      ],
      "metadata": {
        "id": "5U5lu7MrPT4G"
      }
    },
    {
      "cell_type": "markdown",
      "source": [
        "### Regresi Linier"
      ],
      "metadata": {
        "id": "z93oOFkNTHaS"
      }
    },
    {
      "cell_type": "code",
      "source": [
        "# Buat variabel bebas X dan Y, sebagai contoh ambil dari hasil analisis korelasi dari kegaitan sebelumnya\n",
        "X = df['jml_vltr_terlibat']\n",
        "y = df['keterlibatan_vltr']"
      ],
      "metadata": {
        "id": "iNFwfyXVBjTL"
      },
      "execution_count": 51,
      "outputs": []
    },
    {
      "cell_type": "code",
      "source": [
        "# Buat pemisahan data uji dan data latih dengan proporsi 7:3\n",
        "from sklearn.model_selection import train_test_split\n",
        "X_train, X_test, y_train, y_test = train_test_split(X, y, train_size = 0.7, \n",
        "                                                    test_size = 0.3, random_state = 100)"
      ],
      "metadata": {
        "id": "_EX9jd5eSfUS"
      },
      "execution_count": 52,
      "outputs": []
    },
    {
      "cell_type": "code",
      "source": [
        "# hasil training dtaset\n",
        "X_train\n",
        "y_train"
      ],
      "metadata": {
        "colab": {
          "base_uri": "https://localhost:8080/"
        },
        "id": "n1NLf1DUSjvK",
        "outputId": "84002f21-4fa8-4875-c5bd-9b21c1ab7046"
      },
      "execution_count": 53,
      "outputs": [
        {
          "output_type": "execute_result",
          "data": {
            "text/plain": [
              "32    1\n",
              "21    1\n",
              "47    1\n",
              "39    1\n",
              "54    1\n",
              "25    0\n",
              "45    0\n",
              "55    1\n",
              "38    1\n",
              "56    1\n",
              "23    1\n",
              "57    0\n",
              "41    1\n",
              "7     0\n",
              "3     0\n",
              "44    0\n",
              "50    0\n",
              "51    0\n",
              "19    0\n",
              "13    0\n",
              "1     0\n",
              "31    0\n",
              "4     0\n",
              "27    1\n",
              "59    0\n",
              "22    1\n",
              "29    0\n",
              "9     0\n",
              "16    0\n",
              "43    1\n",
              "36    0\n",
              "15    1\n",
              "66    1\n",
              "65    1\n",
              "49    0\n",
              "58    0\n",
              "14    0\n",
              "61    1\n",
              "2     0\n",
              "53    0\n",
              "34    1\n",
              "52    0\n",
              "30    1\n",
              "10    0\n",
              "48    1\n",
              "24    1\n",
              "8     0\n",
              "Name: keterlibatan_vltr, dtype: int64"
            ]
          },
          "metadata": {},
          "execution_count": 53
        }
      ]
    },
    {
      "cell_type": "code",
      "source": [
        "# training model\n",
        "import statsmodels.api as sm\n",
        "\n",
        "X_train_sm = sm.add_constant(X_train)"
      ],
      "metadata": {
        "colab": {
          "base_uri": "https://localhost:8080/"
        },
        "id": "QtATOA-rSycW",
        "outputId": "5a701539-e699-4889-9627-8b7c4e96d920"
      },
      "execution_count": 28,
      "outputs": [
        {
          "output_type": "stream",
          "name": "stderr",
          "text": [
            "/usr/local/lib/python3.7/dist-packages/statsmodels/tsa/tsatools.py:142: FutureWarning: In a future version of pandas all arguments of concat except for the argument 'objs' will be keyword-only\n",
            "  x = pd.concat(x[::order], 1)\n"
          ]
        }
      ]
    },
    {
      "cell_type": "code",
      "source": [
        "# fitting garis regresi\n",
        "lr = sm.OLS(y_train, X_train_sm).fit()\n",
        "lr.params"
      ],
      "metadata": {
        "colab": {
          "base_uri": "https://localhost:8080/"
        },
        "id": "RqQfRUfSS0Az",
        "outputId": "00f1e802-5ebf-4f0f-d1c5-c7a7f74f5333"
      },
      "execution_count": 29,
      "outputs": [
        {
          "output_type": "execute_result",
          "data": {
            "text/plain": [
              "const                0.047936\n",
              "jml_vltr_terlibat    0.328895\n",
              "dtype: float64"
            ]
          },
          "metadata": {},
          "execution_count": 29
        }
      ]
    },
    {
      "cell_type": "code",
      "source": [
        "# analisis statistika dari garis regresi\n",
        "lr.summary()"
      ],
      "metadata": {
        "colab": {
          "base_uri": "https://localhost:8080/",
          "height": 439
        },
        "id": "arlsPP-bS3O5",
        "outputId": "0591690f-8bcc-4803-d1e4-7ecffc596cf2"
      },
      "execution_count": 30,
      "outputs": [
        {
          "output_type": "execute_result",
          "data": {
            "text/plain": [
              "<class 'statsmodels.iolib.summary.Summary'>\n",
              "\"\"\"\n",
              "                            OLS Regression Results                            \n",
              "==============================================================================\n",
              "Dep. Variable:      keterlibatan_vltr   R-squared:                       0.893\n",
              "Model:                            OLS   Adj. R-squared:                  0.890\n",
              "Method:                 Least Squares   F-statistic:                     374.4\n",
              "Date:                Thu, 24 Nov 2022   Prob (F-statistic):           1.92e-23\n",
              "Time:                        11:00:22   Log-Likelihood:                 18.613\n",
              "No. Observations:                  47   AIC:                            -33.23\n",
              "Df Residuals:                      45   BIC:                            -29.53\n",
              "Df Model:                           1                                         \n",
              "Covariance Type:            nonrobust                                         \n",
              "=====================================================================================\n",
              "                        coef    std err          t      P>|t|      [0.025      0.975]\n",
              "-------------------------------------------------------------------------------------\n",
              "const                 0.0479      0.032      1.505      0.139      -0.016       0.112\n",
              "jml_vltr_terlibat     0.3289      0.017     19.350      0.000       0.295       0.363\n",
              "==============================================================================\n",
              "Omnibus:                       44.152   Durbin-Watson:                   2.149\n",
              "Prob(Omnibus):                  0.000   Jarque-Bera (JB):              154.757\n",
              "Skew:                           2.508   Prob(JB):                     2.48e-34\n",
              "Kurtosis:                      10.340   Cond. No.                         2.80\n",
              "==============================================================================\n",
              "\n",
              "Notes:\n",
              "[1] Standard Errors assume that the covariance matrix of the errors is correctly specified.\n",
              "\"\"\""
            ],
            "text/html": [
              "<table class=\"simpletable\">\n",
              "<caption>OLS Regression Results</caption>\n",
              "<tr>\n",
              "  <th>Dep. Variable:</th>    <td>keterlibatan_vltr</td> <th>  R-squared:         </th> <td>   0.893</td>\n",
              "</tr>\n",
              "<tr>\n",
              "  <th>Model:</th>                   <td>OLS</td>        <th>  Adj. R-squared:    </th> <td>   0.890</td>\n",
              "</tr>\n",
              "<tr>\n",
              "  <th>Method:</th>             <td>Least Squares</td>   <th>  F-statistic:       </th> <td>   374.4</td>\n",
              "</tr>\n",
              "<tr>\n",
              "  <th>Date:</th>             <td>Thu, 24 Nov 2022</td>  <th>  Prob (F-statistic):</th> <td>1.92e-23</td>\n",
              "</tr>\n",
              "<tr>\n",
              "  <th>Time:</th>                 <td>11:00:22</td>      <th>  Log-Likelihood:    </th> <td>  18.613</td>\n",
              "</tr>\n",
              "<tr>\n",
              "  <th>No. Observations:</th>      <td>    47</td>       <th>  AIC:               </th> <td>  -33.23</td>\n",
              "</tr>\n",
              "<tr>\n",
              "  <th>Df Residuals:</th>          <td>    45</td>       <th>  BIC:               </th> <td>  -29.53</td>\n",
              "</tr>\n",
              "<tr>\n",
              "  <th>Df Model:</th>              <td>     1</td>       <th>                     </th>     <td> </td>   \n",
              "</tr>\n",
              "<tr>\n",
              "  <th>Covariance Type:</th>      <td>nonrobust</td>     <th>                     </th>     <td> </td>   \n",
              "</tr>\n",
              "</table>\n",
              "<table class=\"simpletable\">\n",
              "<tr>\n",
              "          <td></td>             <th>coef</th>     <th>std err</th>      <th>t</th>      <th>P>|t|</th>  <th>[0.025</th>    <th>0.975]</th>  \n",
              "</tr>\n",
              "<tr>\n",
              "  <th>const</th>             <td>    0.0479</td> <td>    0.032</td> <td>    1.505</td> <td> 0.139</td> <td>   -0.016</td> <td>    0.112</td>\n",
              "</tr>\n",
              "<tr>\n",
              "  <th>jml_vltr_terlibat</th> <td>    0.3289</td> <td>    0.017</td> <td>   19.350</td> <td> 0.000</td> <td>    0.295</td> <td>    0.363</td>\n",
              "</tr>\n",
              "</table>\n",
              "<table class=\"simpletable\">\n",
              "<tr>\n",
              "  <th>Omnibus:</th>       <td>44.152</td> <th>  Durbin-Watson:     </th> <td>   2.149</td>\n",
              "</tr>\n",
              "<tr>\n",
              "  <th>Prob(Omnibus):</th> <td> 0.000</td> <th>  Jarque-Bera (JB):  </th> <td> 154.757</td>\n",
              "</tr>\n",
              "<tr>\n",
              "  <th>Skew:</th>          <td> 2.508</td> <th>  Prob(JB):          </th> <td>2.48e-34</td>\n",
              "</tr>\n",
              "<tr>\n",
              "  <th>Kurtosis:</th>      <td>10.340</td> <th>  Cond. No.          </th> <td>    2.80</td>\n",
              "</tr>\n",
              "</table><br/><br/>Notes:<br/>[1] Standard Errors assume that the covariance matrix of the errors is correctly specified."
            ]
          },
          "metadata": {},
          "execution_count": 30
        }
      ]
    },
    {
      "cell_type": "code",
      "source": [
        "# visualisasi garis regresi\n",
        "plt.scatter(X_train, y_train)\n",
        "plt.plot(X_train, 265.2483 + 66.3015*X_train, 'r')\n",
        "plt.show()"
      ],
      "metadata": {
        "colab": {
          "base_uri": "https://localhost:8080/",
          "height": 265
        },
        "id": "U0C9OzkzS8T_",
        "outputId": "7e1f5949-c15c-4ee6-f42b-4f36b54b81ac"
      },
      "execution_count": 31,
      "outputs": [
        {
          "output_type": "display_data",
          "data": {
            "text/plain": [
              "<Figure size 432x288 with 1 Axes>"
            ],
            "image/png": "[encoded data removed]"
          },
          "metadata": {
            "needs_background": "light"
          }
        }
      ]
    },
    {
      "cell_type": "markdown",
      "source": [
        "####Yang Belum\n",
        "6. Buat Confusion Matrix dan ROC berdasarkan klasifikasi yang diterapkan pada nomor 4! (15 poin)\n",
        "7. Lakukan hyperparameter tunning berdasarkan jawaban nomor 2, 3, dan 4 menggunakan metode Grid Search, Random Search, dan Exhausive Search! (20 poin)\n",
        "8. Tambahkan visualisasi berdasarkan nomor 4 dan 5 (masing-masing nomor minimal satu visualisasi)! (10 poin)"
      ],
      "metadata": {
        "id": "A8Z3iwsGf-_5"
      }
    }
  ],
  "metadata": {
    "colab": {
      "provenance": [],
      "authorship_tag": "ABX9TyMm+/XxA4ne0DGF96PxWFCo",
      "include_colab_link": true
    },
    "kernelspec": {
      "display_name": "Python 3",
      "name": "python3"
    },
    "language_info": {
      "name": "python"
    }
  },
  "nbformat": 4,
  "nbformat_minor": 0
}